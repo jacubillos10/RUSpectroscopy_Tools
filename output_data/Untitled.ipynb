{
 "cells": [
  {
   "cell_type": "markdown",
   "id": "fc43ea9e",
   "metadata": {},
   "source": [
    "<p> <b> Tarea 1: Machine Learning </b> </p>\n",
    "<p> Juan Sebastian Beleño Torregoza [codigo] Jose Alejandro Cubillos Muñoz 201313719 </p>"
   ]
  },
  {
   "cell_type": "code",
   "execution_count": 1,
   "id": "1919a855-7561-4371-a8f8-8f119aa6a9a3",
   "metadata": {},
   "outputs": [],
   "source": [
    "import numpy as np\n",
    "import pandas as pd\n",
    "import matplotlib.pyplot as plt\n",
    "import sklearn\n",
    "from sklearn import linear_model\n",
    "#import os\n",
    "from sklearn.model_selection import train_test_split"
   ]
  },
  {
   "cell_type": "markdown",
   "id": "ce81faf0-1f42-458a-8eea-e2dba9595cdb",
   "metadata": {},
   "source": [
    "<p><b> Punto 1:  </b></p>\n",
    "<p><b> Se hará una regresión por cada marca de carro registrada en la lista \"marcas\" </b><p>"
   ]
  },
  {
   "cell_type": "code",
   "execution_count": 2,
   "id": "7d022f01",
   "metadata": {},
   "outputs": [
    {
     "name": "stdout",
     "output_type": "stream",
     "text": [
      "['audi', 'bmw', 'ford', 'hyundi', 'merc', 'skoda', 'toyota', 'vauxhall', 'vw']\n"
     ]
    }
   ],
   "source": [
    "#marcas = os.popen('ls ./carDataset/').read().split('.csv\\n')[:-1]\n",
    "\"\"\"\n",
    "Lista de marcas con las que se va a trabajar. Si se tienen otros datos con otras marcas cuyo archivo .csv está en el mismo directorio \n",
    "de trabajo que el presente archivo, descomentar la línea anterior. Esta solo funciona en Linux. En Windows especifique la marca en la siguiente línea\n",
    "\"\"\"\n",
    "marcas = ['audi', 'bmw', 'ford', 'hyundi', 'merc', 'skoda', 'toyota', 'vauxhall', 'vw']\n",
    "print(marcas)"
   ]
  },
  {
   "cell_type": "markdown",
   "id": "d9b68705",
   "metadata": {},
   "source": [
    "<p> En la siguiente celda se declaran las funciones que transformarán los datos dados en el .csv, aplicándoles el método \"One Hot\" a los datos categóricos. La función encargada de aplicar el \"One Hot\" se llama \"cocinar_categoricos\". Los datos también entran en un proceso de normalización. La función encargada de normalizar se llama \"normalizar\". Una vez se definen las funciones se aplica la función de \"cocinar_categoricos\" a todos los datos. Luego se dividen los datos aleatoriamente en entrenamiento y test (80% para entrenamiento, 20% para test). FInalmente se normalizan tanto los datos de test como de entrenamiento con la media y la desviación de los datos de entrenamiento. </p>"
   ]
  },
  {
   "cell_type": "code",
   "execution_count": 3,
   "id": "cf28acc6",
   "metadata": {},
   "outputs": [],
   "source": [
    "def cocinar_categoricos(dataSet, lista_categoricos):\n",
    "    \"\"\"\n",
    "    Esta función toma como entrada un data frame y guarda todos los posibles valores de las columnas especificadas. A estas columnas las llamaremos columnas antiguas\n",
    "    Luego crea nuevas columnas con el nombre de los posibles valores y le asigna a cada dato de las nuevas columnas un 1 si  el dato en la columna antigua tiene el valor del nombre de\n",
    "    la columna nueva, 0 de lo contrario. Finalmente se borran las columnas antiguas\n",
    "    @input: dataSet <pd.DataFrame>: Datos que se van a modificar por el método One Hot\n",
    "    @input: lista_catogóricos <list>: lista de \"features\" o columnas a las que se va a aplicar el métodode One Hot\n",
    "    \"\"\"\n",
    "    for feature in lista_categoricos:\n",
    "        if feature in dataSet.keys():\n",
    "            posibles_valores = set(dataSet[feature])\n",
    "            for valor in posibles_valores:\n",
    "                dataSet[valor] = list(map(lambda x: 1 if x==valor else 0, dataSet[feature]))\n",
    "            #fin for\n",
    "        #fin if\n",
    "        del dataSet[feature]\n",
    "    #fin for \n",
    "#fin funcion\n",
    "\n",
    "def normalizar(dataSet, features, parametros = []):\n",
    "    \"\"\"\n",
    "    Esta función resta la media y luego divide entre la desviación estandar de cada dato en cada columna. Si se le especifica la media y la desviación en los parámetros \n",
    "    Usa esa media y desviación dada, de lo contrario, calcula la media y la desviación de cada columna especificada en \"features\"\n",
    "    @input: dataSet <pd.DataFrame>: Tabla de datos a la que se le va a dar normalización a la columans dadas\n",
    "    @input: features <list>: lista de \"features\" o columnas que se van a normalizar\n",
    "    @input: (opcional) parametros <dict>: En caso de que se quiera normalizar con una media y una desviación dada se especifican en un diccionario así: {'mileage':{'media': 2.9, 'desviacion': 7}}\n",
    "    \"\"\"\n",
    "    if len(parametros) == 0:\n",
    "        for feature in features:\n",
    "            media = np.mean(dataSet[feature])\n",
    "            desviacion = np.std(dataSet[feature])\n",
    "            if desviacion != 0:\n",
    "                dataSet[feature] = (dataSet[feature] - media)/desviacion\n",
    "            #fin if \n",
    "        #fin for\n",
    "    #fin if \n",
    "    else:\n",
    "        for feature in features:\n",
    "            media = parametros[feature]['media']\n",
    "            desviacion = parametros[feature]['desviacion']\n",
    "            if desviacion != 0:\n",
    "                dataSet[feature] = (dataSet[feature] - media)/desviacion\n",
    "            #fin if \n",
    "        #fin for\n",
    "#fin función\n",
    "\n",
    "\"\"\"\n",
    "En esta parte se definen los features categóricos a los cuales se les va a aplicar el \"One Hot\" (features_categoricos) y los faetures, los cuales se van normalizar (features_normalizar)\n",
    "Note que los categóricos no se normalizaron. Esto se hizo debido a la gran cantidad de datos que hay de cada marca. Al normalizar un dato categórico el cero se convierte en un número \n",
    "negativo muy pequeño y el 1 en un número positivo también muy pequeño, lo cual afecta tanto al modelo de scikit learn como al modelo propio implementado con descenso de gradiente estocástico.\n",
    "Por esta razón se dejaron los datos categóricos como 0 o 1, lo cual arroja mejores resultados. \n",
    "\n",
    "Una vez se entra en el bucle de \"for marca in marcas\" se aplica el \"One hot\" a todos los datos, se dividen los datos de entrenamiento y de test, se guarda la media y la desviación de\n",
    "todas las columnas de los datos de entrenamiento y finalmente se normaliza los datos de entrenamiento y los de test con las medias y desviaciones guardadas\n",
    "\"\"\"\n",
    "\n",
    "DatosTotales = dict()\n",
    "DatosEntrenamiento = dict()\n",
    "DatosTest = dict()\n",
    "DatosEstadisticos_Entrenamiento = dict()\n",
    "features_categoricos = ['model', 'transmission', 'fuelType']\n",
    "features_normalizar = ['year', 'mileage', 'tax', 'mpg', 'engineSize', 'price']\n",
    "for marca in marcas:\n",
    "    DatosTotales[marca] = pd.read_csv('carDataset/' + marca + '.csv')\n",
    "    #Aquí se aplica el \"One Hot\" a todos los datos \n",
    "    cocinar_categoricos(DatosTotales[marca], features_categoricos)\n",
    "    DatosEntrenamiento[marca], DatosTest[marca] = train_test_split(DatosTotales[marca], test_size = 0.2)\n",
    "    DatosEstadisticos_Entrenamiento[marca] = dict(map(lambda x: (x, {'media': np.mean(DatosTotales[marca][x]), 'desviacion': np.std(DatosEntrenamiento[marca][x])}), \n",
    "        DatosEntrenamiento[marca].keys()))\n",
    "    #features_normalizar = DatosEntrenamiento[marca].keys()\n",
    "    normalizar(DatosEntrenamiento[marca], features_normalizar)\n",
    "    normalizar(DatosTest[marca], features_normalizar, parametros=DatosEstadisticos_Entrenamiento[marca])\n",
    "#fin for \n",
    "#print(DatosEntrenamiento['skoda'])"
   ]
  },
  {
   "cell_type": "markdown",
   "id": "1ff92451",
   "metadata": {},
   "source": [
    "<b> Entrenamiento del modelo usando scikit-learn: </b>\n",
    "\n",
    "<p><b> En las siguientes dos celdas se define cuales columnas son los datos de entrada (X) y cual columna es el target (el precio, y) tanto para los datos de entrenamiento como para los \n",
    "de test. Luego se entrena el modelo con regresión lineal usando scikit-learn en la línea \"obj_modelo_reg.fit(X_entrenamiento[marca], y_entrenamiento[marca])\". Finalmente se guardan los pesos \"w\" y el intercepto, determinados con los datos de entrenamiento, en un diccionario llamado \"resultados_sklearn\". También se guarda el MSE, calculados con los datos del target de test y los \"w\" e interpecto aplicados al X de test, en el diccionario \"MSE_p1\", que significa MSE punto 1.</b></p>"
   ]
  },
  {
   "cell_type": "code",
   "execution_count": 4,
   "id": "e1cbb60d",
   "metadata": {},
   "outputs": [],
   "source": [
    "feature_y = 'price'"
   ]
  },
  {
   "cell_type": "code",
   "execution_count": 5,
   "id": "e64f2cc8",
   "metadata": {},
   "outputs": [],
   "source": [
    "w_sklearn = dict()\n",
    "resultados_sklearn = dict()\n",
    "X_entrenamiento = dict()\n",
    "y_entrenamiento = dict()\n",
    "X_test = dict()\n",
    "y_test = dict()\n",
    "y_gorro_test = dict()\n",
    "MSE_p1 = dict()\n",
    "for marca in marcas:\n",
    "    lista_features_x = list(DatosEntrenamiento[marca].keys())\n",
    "    lista_features_x.remove(feature_y)\n",
    "    X_entrenamiento[marca] = DatosEntrenamiento[marca][lista_features_x]\n",
    "    y_entrenamiento[marca] = DatosEntrenamiento[marca][feature_y]\n",
    "    X_test[marca] = DatosTest[marca][lista_features_x]\n",
    "    y_test[marca] = DatosTest[marca][feature_y]\n",
    "    obj_modelo_reg = linear_model.LinearRegression()\n",
    "    obj_modelo_reg.fit(X_entrenamiento[marca], y_entrenamiento[marca])\n",
    "    w_sklearn[marca] = [obj_modelo_reg.intercept_, *obj_modelo_reg.coef_]\n",
    "    y_gorro_test[marca] = X_test[marca].dot(w_sklearn[marca][1:]) + w_sklearn[marca][0]\n",
    "    MSE_p1[marca] = 1/(len(y_test[marca]))*((y_test[marca] - y_gorro_test[marca]).dot(y_test[marca] - y_gorro_test[marca]))\n",
    "    resultados_sklearn[marca] = dict(dict(map(lambda x,y: (x,y), ['intercepto'] + lista_features_x, w_sklearn[marca])))\n",
    "#fin for "
   ]
  },
  {
   "cell_type": "markdown",
   "id": "5879aaef",
   "metadata": {},
   "source": [
    "<p> En esta celda se reportan los \"w\" para cada \"feature\" para cada marca. También se reporta el MSE de cada marca con los \"w\" determinados con scikit-learn </p>"
   ]
  },
  {
   "cell_type": "code",
   "execution_count": 6,
   "id": "89a56fce",
   "metadata": {},
   "outputs": [
    {
     "name": "stdout",
     "output_type": "stream",
     "text": [
      "audi :  {'intercepto': 338245972781.5106, 'year': 0.3413111519483319, 'mileage': -0.1596267075328024, 'tax': -0.17092979608895717, 'mpg': -0.311409082100568, 'engineSize': 0.2330923533511535, ' R8': 6023766949.437706, ' A8': 6023766944.992901, ' RS5': 6023766945.969752, ' S4': 6023766944.926721, ' Q3': 6023766944.514072, ' S8': 6023766944.907708, ' S5': 6023766944.388247, ' A7': 6023766944.678456, ' A2': -1666062232.5802178, ' RS4': 6023766946.028512, ' Q5': 6023766944.844244, ' SQ5': 6023766945.01711, ' A5': 6023766944.51039, ' RS7': 6023766945.917722, ' A3': 6023766944.363455, ' A4': 6023766944.394299, ' Q8': 6023766946.375343, ' TT': 6023766944.553466, ' RS6': 6023766946.618801, ' A1': 6023766944.2575655, ' Q2': 6023766944.382711, ' RS3': 6023766945.100872, ' A6': 6023766944.567674, ' S3': 6023766944.768196, ' Q7': 6023766945.56913, ' SQ7': 6023766945.722907, 'Automatic': -210292288712.5656, 'Manual': -210292288712.70154, 'Semi-Auto': -210292288712.558, 'Petrol': -133977451013.48685, 'Hybrid': -133977451010.6374, 'Diesel': -133977451013.41853}\n",
      "bmw :  {'intercepto': 1.3519743736311276, 'year': 0.36318111127449015, 'mileage': -0.25307155730618536, 'tax': -0.06283677924834238, 'mpg': -0.3425262866240244, 'engineSize': 0.1724179937969482, ' X3': -0.6130931768418123, ' M6': -0.210599677363654, ' X2': -1.0035769067295086, ' 4 Series': -1.1014920804456625, ' 7 Series': -0.15674783452713334, ' Z3': 0.6269990372810657, ' 5 Series': -0.9357920786592316, ' M3': 0.04033616756750132, ' Z4': -0.8223137343413817, ' 8 Series': 1.4368240368870633, ' M5': 0.9831926212973577, ' 3 Series': -1.0903574966215654, ' 1 Series': -1.3293267126766164, ' 6 Series': -0.8733723113160283, ' X7': 2.0742741499954525, ' X1': -1.120775562064662, ' X6': 0.32238743276745563, ' i3': 3.338802973636618, ' i8': 2.2409480738059093, ' 2 Series': -1.3393016313362516, ' M4': 0.14263535558657991, ' X4': -0.509479329765665, ' X5': 0.07819501386689134, ' M2': -0.17836633000274105, 'Automatic': -0.007587799909123234, 'Manual': -0.05709634964963836, 'Semi-Auto': 0.06468414955875147, 'Petrol': -0.4610493637738724, 'Hybrid': 0.40835961685093647, 'Other': 0.24710021251052725, 'Electric': 0.2123918138157359, 'Diesel': -0.40680227940329744}\n",
      "ford :  {'intercepto': 0.969117613990452, 'year': 0.48550332950904895, 'mileage': -0.259386559669833, 'tax': -0.014269096976333925, 'mpg': -0.1577044993274234, 'engineSize': 0.26160559153816626, ' C-MAX': -0.6742181344739568, ' Fiesta': -0.669864781913593, ' Focus': -0.23850444998194512, ' Grand Tourneo Connect': -0.10570558606434459, ' Fusion': -0.1406633683438256, ' Tourneo Connect': -0.2104348125430259, ' EcoSport': -0.559529062455749, ' Streetka': 0.23943219677111222, ' Grand C-MAX': -0.5670077306271119, ' Ka+': -1.5411756557899354, ' Escort': 2.3515678557743955, ' Mondeo': -0.31658966815166856, ' Transit Tourneo': -0.4897274833531463, ' S-MAX': 0.45961035308275805, ' Ranger': 0.27110364847660234, ' Mustang': 1.206852798946514, ' Galaxy': 0.5392312985372663, ' Kuga': -0.11668102637057977, ' Tourneo Custom': 0.598809927254137, ' KA': -1.0074109680979246, ' Puma': 0.7986151514421869, ' Edge': 1.0758188941754818, ' B-MAX': -0.9035293962936214, 'Automatic': 0.04000201306545069, 'Manual': -0.0577527642717405, 'Semi-Auto': 0.017750751206287087, 'Petrol': -0.49655959407317485, 'Hybrid': 1.0424729735252356, 'Other': 0.0, 'Electric': -0.05950210525588601, 'Diesel': -0.4864112741960733}\n",
      "hyundi :  {'intercepto': 0.4261719143986181, 'year': 0.33874315446421677, 'mileage': -0.19554783553240634, 'tax': -0.1028412826612926, 'mpg': -0.21825930702105525, 'engineSize': 0.15692267464043957, ' Terracan': -1.5126788710517758e-15, ' Getz': 0.7002578281730911, ' Amica': -4.440892098500626e-16, ' Veloster': -0.06714921254674812, ' IX20': -0.6199241602100996, ' I40': -0.18141505623469611, ' Santa Fe': 1.110160847800892, ' Kona': 0.02047474454768358, ' Ioniq': -0.2236198497985297, ' Accent': 0.9544063464195732, ' IX35': -0.06208387049959883, ' I20': -0.5425017679269014, ' I30': -0.12123634226291839, ' I800': -0.37498071947108685, ' Tucson': 0.08459985407566123, ' I10': -0.6769886420663191, 'Automatic': 0.29331509041311904, 'Manual': 0.03670152703068053, 'Semi-Auto': 0.41040200507649754, 'Other': 0.30876759035220813, 'Petrol': -0.448382091924166, 'Hybrid': 0.4641178488516793, 'Diesel': -0.3245033472797238}\n",
      "merc :  {'intercepto': 1.415549095067186, 'year': 0.35750307703149403, 'mileage': -0.25661322799206654, 'tax': -0.11706584590459206, 'mpg': -0.21758089850674936, 'engineSize': 0.4492628517216352, ' M Class': 0.028750875104480825, ' G Class': 4.506209760877041, ' SL CLASS': -0.36840950933156846, ' CLA Class': -0.4249954188594375, ' CLC Class': -0.27996656432056993, ' C Class': -0.4351694133230276, ' GLS Class': 0.4620017857853174, ' B Class': -0.5989300514222942, ' CL Class': -0.4454932554495254, ' SLK': -0.17177424757104806, ' GLC Class': -0.034976183872584395, '200': -0.6810008019087807, '220': -1.970645868709653e-15, ' E Class': -0.3034565172548177, ' V Class': 0.06225018567297534, '180': -0.029580224500056616, ' GLB Class': 0.04979991625134816, ' GL Class': -0.3126027002421812, ' CLS Class': -0.42322091178568677, ' CLK': 0.25352775916275916, '230': 1.0547118733938987e-15, ' X-CLASS': -0.6135979117311108, ' GLA Class': -0.5650865254778776, ' A Class': -0.36662761832960383, ' S Class': 0.4797418458734317, ' GLE Class': 0.19059445253507562, ' R Class': 0.022011274117752104, 'Automatic': -0.5489352713264176, 'Manual': -0.738380138773445, 'Semi-Auto': -0.5454850566688568, 'Other': 0.5960642236040291, 'Petrol': -0.43880740841555876, 'Hybrid': 0.4157761896796881, 'Diesel': -0.573033004868168}\n",
      "skoda :  {'intercepto': 1.4123168998950328, 'year': 0.273981725950823, 'mileage': -0.1812629715038298, 'tax': -0.029034919914858064, 'mpg': -0.34704462724750057, 'engineSize': 0.19309839218987915, ' Scala': -0.0742436925663115, ' Superb': 0.2757494896150686, ' Rapid': -0.3084895033970586, ' Octavia': -0.049618683854954285, ' Yeti': -0.22146701077514136, ' Roomster': -0.42662087386527847, ' Fabia': -0.2941283047345885, ' Kodiaq': 0.8436909258921683, ' Yeti Outdoor': -0.13791280495848643, ' Kamiq': 0.2760335274673769, ' Karoq': 0.5300534580485308, ' Citigo': -0.4130465268713183, 'Automatic': 0.167870278717535, 'Manual': -0.09231716169886114, 'Semi-Auto': 0.14428461095233036, 'Other': -1.3773221030584952, 'Petrol': -1.4991583388607055, 'Hybrid': 4.162581001280522, 'Diesel': -1.2861005593613148}\n",
      "toyota :  {'intercepto': 0.9291628157183327, 'year': 0.273633214912576, 'mileage': -0.18859345879614112, 'tax': -0.0461435757684976, 'mpg': -0.023997834119064303, 'engineSize': 0.2252044559209172, ' GT86': 0.013477537828097904, ' Prius': -0.15065112327273883, ' Corolla': -0.13467246669977437, ' Yaris': -1.1644281700548367, ' Auris': -0.9268639936535158, ' Avensis': -0.7183705928102254, ' Verso-S': -0.8639134737258538, ' PROACE VERSO': 1.2961259292225702, ' Urban Cruiser': -0.910367206134205, ' Camry': 0.11267298513064555, ' Hilux': 0.3197738996815826, ' RAV4': -0.17042543370839802, ' Supra': 3.7731400974947196, ' IQ': -0.9403933837899007, ' C-HR': -0.0535145718903588, ' Verso': -0.7365371498822381, ' Aygo': -1.3325091432368221, ' Land Cruiser': 2.5874562595011974, 'Automatic': 0.04543207828753613, 'Manual': -0.12702045862121794, 'Semi-Auto': 0.08158838033373304, 'Other': 0.19142975344304108, 'Petrol': -0.06869662425788603, 'Hybrid': 0.19502326537071357, 'Diesel': -0.31775639455594}\n",
      "vauxhall :  {'intercepto': 2.3147537847381976, 'year': 0.3690918717742521, 'mileage': -0.32439155603136965, 'tax': 0.026608426073828594, 'mpg': -0.1533342082648372, 'engineSize': -0.08784523547463352, ' Corsa': -0.6605599452154192, ' Agila': -0.705570286955615, ' Antara': -0.28130198897159964, ' Insignia': 0.3687638908307943, ' Mokka': -0.1365592478672654, ' Ampera': 1.3024864738288457, ' Vectra': 0.5503063923054455, ' Astra': -0.05206031233065259, ' Combo Life': 0.3597975692387311, ' Zafira Tourer': -0.003929097585214534, ' Mokka X': 0.07269374844290655, ' Grandland X': 1.0730769055948517, ' Adam': -0.7697103747076204, ' GTC': -0.09430788247879307, ' Meriva': -0.7266825207421725, ' Vivaro': 0.9115127358404131, ' Cascada': 0.19989127930304695, ' Tigra': -0.4194892212634027, ' Kadjar': 0.3759901347577678, ' Viva': -1.2852479100415315, ' Crossland X': -0.040077880350278115, ' Zafira': -0.03902246163325529, 'Automatic': -1.3772586410640484, 'Manual': -1.6565913102339354, 'Semi-Auto': -1.3814742384423833, 'Other': -0.5734165671863299, 'Petrol': -0.6169139015248228, 'Hybrid': 1.3024864738288506, 'Electric': 0.0, 'Diesel': -0.11215600511774351}\n",
      "vw :  {'intercepto': 0.8541565776918411, 'year': 0.3374893798346279, 'mileage': -0.20742993028085188, 'tax': -0.07665617496543982, 'mpg': -0.1608304545763681, 'engineSize': 0.4237042879662645, ' Passat': -0.35700186266803147, ' Tiguan Allspace': 0.37448054674354586, ' Golf SV': -0.5455185717564113, ' Golf': -0.35934272583742344, ' Caddy': -0.32354837059990704, ' T-Cross': -0.06380634056636701, ' Tiguan': 0.011853607002686516, ' Touran': -0.034961174148604904, ' Beetle': -0.38364363404279794, ' Caddy Maxi': -0.2381688665628898, ' Caddy Life': -0.5773727768583705, ' Polo': -0.5950544522692949, ' T-Roc': 0.016169425519132277, ' Scirocco': -0.5760765135462406, ' Amarok': -0.06881490799647622, ' Up': -0.8577417491023758, ' Shuttle': 0.12525070176527153, ' Touareg': 0.3278419877818337, ' Jetta': -0.764009560862905, ' Eos': -0.16125888170490157, ' California': 4.099828164372982, ' CC': -0.6467997717838998, ' Sharan': -0.09534197216351648, ' Caddy Maxi Life': -0.606583441406513, ' Arteon': 0.08565312695820367, ' Caravelle': 2.0992293167586196, ' Fox': 0.11473869697466561, 'Automatic': 0.07955618286549397, 'Manual': -0.14143551428388432, 'Semi-Auto': 0.0618793314183753, 'Petrol': -0.38373495333814184, 'Other': -0.22169314967682746, 'Hybrid': 1.242041870801588, 'Diesel': -0.6366137677866043}\n",
      "Los MSE para scikit-learn son: \n",
      "{'audi': 2.771015594872944e+16, 'bmw': 0.12191725397178137, 'ford': 0.1938698675558047, 'hyundi': 0.11997991585472446, 'merc': 0.1857751526417435, 'skoda': 0.07572449356310958, 'toyota': 0.07290788468963963, 'vauxhall': 0.14532436682485597, 'vw': 0.10763967675205502}\n"
     ]
    }
   ],
   "source": [
    "for marca in marcas:\n",
    "    print(marca, \": \", resultados_sklearn[marca])\n",
    "#fin for \n",
    "print('Los MSE para scikit-learn son: ')\n",
    "print(MSE_p1)\n",
    "#print(X_entrenamiento['skoda'].loc[[908,2908]])\n",
    "#print(X_entrenamiento['skoda'].loc[[908,2908]])\n",
    "#print(len(X_entrenamiento['skoda'].index))\n",
    "#print(list(y_entrenamiento['skoda'].index))"
   ]
  },
  {
   "cell_type": "markdown",
   "id": "dba7d17c",
   "metadata": {},
   "source": [
    "<b> Implementación del descenso del gradiente estocástico </b>\n",
    "<p><b> Al igual que en la parte a se hizo una regresión para cada marca </b></p>"
   ]
  },
  {
   "cell_type": "markdown",
   "id": "2c08baa5",
   "metadata": {},
   "source": [
    "<p> En esta primera celda se introdujo una columna de unos como la primera columna de los datos, para que el \"w\" calculado a partir de esta columna sea el intercepto del modelo </p>"
   ]
  },
  {
   "cell_type": "code",
   "execution_count": 8,
   "id": "07d0270e",
   "metadata": {},
   "outputs": [],
   "source": [
    "#Insertar unos como la primera columna de las matrices X_entrenamiento y X_test\n",
    "for marca in marcas:\n",
    "    X_entrenamiento[marca].insert(loc = 0, column = 'intercepto', value = np.ones(len(DatosEntrenamiento[marca][feature_y])))\n",
    "    X_test[marca].insert(loc = 0, column = 'intercepto', value = np.ones(len(DatosTest[marca][feature_y])))\n",
    "#fin for "
   ]
  },
  {
   "cell_type": "markdown",
   "id": "87f6dc00",
   "metadata": {},
   "source": [
    "<p><b> La siguiente celda define la función que determinará un \"w\" a partir de unos datos de entrenamiento (X) y una columna de target (y). A esta función se le puede definir la tasa de \n",
    "aprendizaje, el número de minibatches y el número máximos de iteraciones. Si estos no se definen, por defecto la tasa de aprendizaje tendrá un valor de 0.1, el número de minibatches será de 100 y las iteraciones máximas serán de 30. En cada iteración la función ordena aleatoriamente cada fila de datos y los divide en N_batches minibatches. Luego calcula el gradiente para el primer minibatch y determina un nuevo w a partir de ese gradiente, luego va al siguiente minibatch, determina el gradiente y vuelve a determinar un nuevo w, así sucesivamente hasta que pasa por todos los minibatches. Una vez pasa por todos los minibatches vuelve a repetir el proceso (volviendo a reordenar los datos aleatoriamente) el número de veces que permitan las máximas iteraciones \"max_iter\". </b></p>"
   ]
  },
  {
   "cell_type": "code",
   "execution_count": 9,
   "id": "f13071f2",
   "metadata": {},
   "outputs": [],
   "source": [
    "def hallar_w_descenso_gradiente(X,y,w0, max_iter=30, N_batches=100, alpha1=0.1):\n",
    "    \"\"\"\n",
    "    Aquí se define el tamaño del minibatch en la variable de \"tam_batch\"\n",
    "    Esta función determina los w usando el método de descendo de gradiente estocástico. Lo primero que hace es reordenar las filas aleatoriamente. Para ello se creó una lista de indices, la \n",
    "    cual contiene números enteros ordenados al azar. Luego cada minibatch va a tomar los datos correspondientes a los índices asignados. Por ejemplo si el tamaño del minibatch es de 5 \n",
    "    y los primeros 10 elementos de \"indices\" son: [35, 475, 11, 232, 99, 10, 0, 87, 44, 29], entonces el primer minibatch estará compúesto de los datos de las filas 35, 475, 11, 232 y 99, \n",
    "    mientras que el segundo estará compuesto de las filas 10, 0, 87, 44, 29, y así sucesivamente para los siguiente minibatches. \n",
    "    @input: X <pd.DataFrame>: Datos de entrenamiento (sin el target)\n",
    "    @input: y <pd.DataFrame>: Columna de los target de los datos de entrenamiento \n",
    "    @input: (opcional) max_iter <int>: Número máximo de iteraciones\n",
    "    @input: (opcional) N_batches <int>: Número de minibatches en los que se dividirán los datos\n",
    "    @input: (opcional) alpha1 <float>: Tasa de aprendizaje\n",
    "    @output: w <np.ndarray>: Los pesos calculados a partir de la regresión lineal con descenso de gradiente estocástico\n",
    "    \"\"\"\n",
    "    tam_batch = int(len(y)/N_batches)\n",
    "    w = w0\n",
    "    for n_iter in range(max_iter):\n",
    "        indices = sorted(X.index, key = lambda x: np.random.rand())\n",
    "        for i in range(N_batches):\n",
    "            if i < N_batches -1:\n",
    "                indices_loc = indices[i*tam_batch:(i+1)*tam_batch]\n",
    "            else:\n",
    "                indices_loc = indices[i*tam_batch:]\n",
    "            #fin if \n",
    "            X_batch = X.loc[indices_loc]\n",
    "            y_batch = y.loc[indices_loc]\n",
    "            gradiente = ((X_batch.T).dot(X_batch)).dot(w) - (X_batch.T).dot(y_batch)\n",
    "            w = w - alpha1*gradiente\n",
    "        #fin for\n",
    "    #fin for\n",
    "    return w\n",
    "#fin función"
   ]
  },
  {
   "cell_type": "markdown",
   "id": "df768623",
   "metadata": {},
   "source": [
    "<p> En la siguiente celda se aplica la función \"hallar_w_descenso_gradiente\" a cada una de las marcas. El criterio de inicialización de los w se explica en un comentario dentro de la celda. Los resultados de los w se guardan en un diccionario llamado w_p2, los y_calculados con los datos de test se guardan en un diccionario llamado y_gorro_test_p2, y finalmente los MSE se guardan en el diccionario MSE_p2 </p>"
   ]
  },
  {
   "cell_type": "code",
   "execution_count": 10,
   "id": "3e571985",
   "metadata": {},
   "outputs": [],
   "source": [
    "\"\"\"\n",
    "NOTA: Con una CPU de 16 hilos esto se demora 49s en correr. Si le bajo al número de batches o le subo a la taza de aprendizaje tan solo un poquito, todo se va al @#@⅛! para todas las marcas\n",
    "SI le bajo a la taza de aprendizaje y le subo al número de batches así como al número máximo de iteraciones esto se demora siglos. Aún así simpre hay una marca cuyo MSE da horrible\n",
    "***************************\n",
    "Criterio de Inicialización:\n",
    "En cuanto al intercepto la mejor inicialización es 0, ya que este puede ser negativo o positivo, y no se sabe mas\n",
    "Entre mayor sea el año, es decir mas nuevo el carro se epera que sea mas caro, se le inicializará con +0.5\n",
    "Entre mas usado sea el carro, es decir mayor sea su \"mileage\" se espera que sea mas barato, se inicializará con -0.5\n",
    "Entre mas se cobren impuestos se espera que valga menos: -0.5\n",
    "Entre mas eficiente sea un carro, es decir, entre mas millas por galón recorra, se espera que valga mas: +0.5\n",
    "Entre mas grande sea el motor, se espera que sea mas caro: +0.5\n",
    "En cuanto a los modelos de los carros es muy complicado conocer a priori el signo de la pendiente. Todos estos se inicializarán con 0\n",
    "Se espera que si un carro es automático, este sea mas caro, respecto a los otros casos, por lo que se inicializará su pendiente con 0.5\n",
    "Si es semiautomático se espera que estén en intermedio de precios por lo que se inicializará con 0\n",
    "Si es manual se espera que sea mas batato que el automático o semi, por que se inicializará con -0.5 su pendiente\n",
    "Los demás se inicializarán desde 0\n",
    "\n",
    "\"\"\"\n",
    "MSE_p2 = dict()\n",
    "w_p2 = dict()\n",
    "y_gorro_test_p2 = dict()\n",
    "resultados_p2 = dict()\n",
    "for marca in marcas:\n",
    "    n_caracteristicas = len(X_entrenamiento[marca].keys())\n",
    "    w0 = np.array([0, 0.5, -0.5, -0.5, 0.5, 0.5] + [0]*(n_caracteristicas - 13) + [0, 0.5, -0.5] + [0]*4)\n",
    "    resultados_p2[marca] = dict(hallar_w_descenso_gradiente(X_entrenamiento[marca], y_entrenamiento[marca], w0, max_iter=150, N_batches=7, alpha1=0.0004))\n",
    "    w_p2[marca] = list(resultados_p2[marca].values())\n",
    "    y_gorro_test_p2[marca] = X_test[marca].dot(w_p2[marca])\n",
    "    MSE_p2[marca] = 1/(len(y_test[marca]))*((y_test[marca] - y_gorro_test_p2[marca]).dot(y_test[marca] - y_gorro_test_p2[marca]))\n",
    "#fin for \n"
   ]
  },
  {
   "cell_type": "markdown",
   "id": "2c4010fa",
   "metadata": {},
   "source": [
    "<p><b> Finalmente en las siguientes dos celdas se reportan los \"w\" obtenidos tanto en el punto con scikit-learn como con el punto con la propia implementación de descnso de gradiente estocástico. También se reportan los MSE para cada marca y para cada método </b></p>"
   ]
  },
  {
   "cell_type": "code",
   "execution_count": 11,
   "id": "3e823f69",
   "metadata": {},
   "outputs": [
    {
     "name": "stdout",
     "output_type": "stream",
     "text": [
      "------- Resultados de la marca:  audi --------------------------------------------------------------------------------------------------------------------------------------------------------------------------------------------------------\n",
      "Scikit-learn:  {'intercepto': 1.4123168998950328, 'year': 0.273981725950823, 'mileage': -0.1812629715038298, 'tax': -0.029034919914858064, 'mpg': -0.34704462724750057, 'engineSize': 0.19309839218987915, ' Scala': -0.0742436925663115, ' Superb': 0.2757494896150686, ' Rapid': -0.3084895033970586, ' Octavia': -0.049618683854954285, ' Yeti': -0.22146701077514136, ' Roomster': -0.42662087386527847, ' Fabia': -0.2941283047345885, ' Kodiaq': 0.8436909258921683, ' Yeti Outdoor': -0.13791280495848643, ' Kamiq': 0.2760335274673769, ' Karoq': 0.5300534580485308, ' Citigo': -0.4130465268713183, 'Automatic': 0.167870278717535, 'Manual': -0.09231716169886114, 'Semi-Auto': 0.14428461095233036, 'Other': -1.3773221030584952, 'Petrol': -1.4991583388607055, 'Hybrid': 4.162581001280522, 'Diesel': -1.2861005593613148}\n",
      "D.Gradiente Est.:  {'intercepto': 0.39153890119773044, 'year': 0.26604519667170484, 'mileage': -0.1855805311214098, 'tax': -0.0008297477505258752, 'mpg': -0.1036902924012455, 'engineSize': 0.3023938697513906, ' Scala': 0.011300146463458073, ' Superb': 0.2978908557703028, ' Rapid': -0.37540562796448623, ' Octavia': -0.13716766722722237, ' Yeti': -0.15750976906398276, ' Roomster': -0.18642312017819873, ' Fabia': -0.38205105644360365, ' Kodiaq': 1.0381069321823817, ' Yeti Outdoor': -0.1155790215895813, ' Kamiq': 0.3680691670754825, ' Karoq': 0.6045815679852792, ' Citigo': -0.5742735058121025, 'Automatic': 0.2320795240867093, 'Manual': -0.05527210610957094, 'Semi-Auto': 0.21018905438208685, 'Other': -0.021537764044219167, 'Petrol': -0.385913574251892, 'Hybrid': 1.2998144993025122, 'Diesel': -0.5008242598086865}\n",
      "----------------------------------------------------------------------------------------------------------------------------------------------------------------------------------------------------------------------------------------------------------\n",
      "------- Resultados de la marca:  bmw --------------------------------------------------------------------------------------------------------------------------------------------------------------------------------------------------------\n",
      "Scikit-learn:  {'intercepto': 1.4123168998950328, 'year': 0.273981725950823, 'mileage': -0.1812629715038298, 'tax': -0.029034919914858064, 'mpg': -0.34704462724750057, 'engineSize': 0.19309839218987915, ' Scala': -0.0742436925663115, ' Superb': 0.2757494896150686, ' Rapid': -0.3084895033970586, ' Octavia': -0.049618683854954285, ' Yeti': -0.22146701077514136, ' Roomster': -0.42662087386527847, ' Fabia': -0.2941283047345885, ' Kodiaq': 0.8436909258921683, ' Yeti Outdoor': -0.13791280495848643, ' Kamiq': 0.2760335274673769, ' Karoq': 0.5300534580485308, ' Citigo': -0.4130465268713183, 'Automatic': 0.167870278717535, 'Manual': -0.09231716169886114, 'Semi-Auto': 0.14428461095233036, 'Other': -1.3773221030584952, 'Petrol': -1.4991583388607055, 'Hybrid': 4.162581001280522, 'Diesel': -1.2861005593613148}\n",
      "D.Gradiente Est.:  {'intercepto': 0.39153890119773044, 'year': 0.26604519667170484, 'mileage': -0.1855805311214098, 'tax': -0.0008297477505258752, 'mpg': -0.1036902924012455, 'engineSize': 0.3023938697513906, ' Scala': 0.011300146463458073, ' Superb': 0.2978908557703028, ' Rapid': -0.37540562796448623, ' Octavia': -0.13716766722722237, ' Yeti': -0.15750976906398276, ' Roomster': -0.18642312017819873, ' Fabia': -0.38205105644360365, ' Kodiaq': 1.0381069321823817, ' Yeti Outdoor': -0.1155790215895813, ' Kamiq': 0.3680691670754825, ' Karoq': 0.6045815679852792, ' Citigo': -0.5742735058121025, 'Automatic': 0.2320795240867093, 'Manual': -0.05527210610957094, 'Semi-Auto': 0.21018905438208685, 'Other': -0.021537764044219167, 'Petrol': -0.385913574251892, 'Hybrid': 1.2998144993025122, 'Diesel': -0.5008242598086865}\n",
      "----------------------------------------------------------------------------------------------------------------------------------------------------------------------------------------------------------------------------------------------------------\n",
      "------- Resultados de la marca:  ford --------------------------------------------------------------------------------------------------------------------------------------------------------------------------------------------------------\n",
      "Scikit-learn:  {'intercepto': 1.4123168998950328, 'year': 0.273981725950823, 'mileage': -0.1812629715038298, 'tax': -0.029034919914858064, 'mpg': -0.34704462724750057, 'engineSize': 0.19309839218987915, ' Scala': -0.0742436925663115, ' Superb': 0.2757494896150686, ' Rapid': -0.3084895033970586, ' Octavia': -0.049618683854954285, ' Yeti': -0.22146701077514136, ' Roomster': -0.42662087386527847, ' Fabia': -0.2941283047345885, ' Kodiaq': 0.8436909258921683, ' Yeti Outdoor': -0.13791280495848643, ' Kamiq': 0.2760335274673769, ' Karoq': 0.5300534580485308, ' Citigo': -0.4130465268713183, 'Automatic': 0.167870278717535, 'Manual': -0.09231716169886114, 'Semi-Auto': 0.14428461095233036, 'Other': -1.3773221030584952, 'Petrol': -1.4991583388607055, 'Hybrid': 4.162581001280522, 'Diesel': -1.2861005593613148}\n",
      "D.Gradiente Est.:  {'intercepto': 0.39153890119773044, 'year': 0.26604519667170484, 'mileage': -0.1855805311214098, 'tax': -0.0008297477505258752, 'mpg': -0.1036902924012455, 'engineSize': 0.3023938697513906, ' Scala': 0.011300146463458073, ' Superb': 0.2978908557703028, ' Rapid': -0.37540562796448623, ' Octavia': -0.13716766722722237, ' Yeti': -0.15750976906398276, ' Roomster': -0.18642312017819873, ' Fabia': -0.38205105644360365, ' Kodiaq': 1.0381069321823817, ' Yeti Outdoor': -0.1155790215895813, ' Kamiq': 0.3680691670754825, ' Karoq': 0.6045815679852792, ' Citigo': -0.5742735058121025, 'Automatic': 0.2320795240867093, 'Manual': -0.05527210610957094, 'Semi-Auto': 0.21018905438208685, 'Other': -0.021537764044219167, 'Petrol': -0.385913574251892, 'Hybrid': 1.2998144993025122, 'Diesel': -0.5008242598086865}\n",
      "----------------------------------------------------------------------------------------------------------------------------------------------------------------------------------------------------------------------------------------------------------\n",
      "------- Resultados de la marca:  hyundi --------------------------------------------------------------------------------------------------------------------------------------------------------------------------------------------------------\n",
      "Scikit-learn:  {'intercepto': 1.4123168998950328, 'year': 0.273981725950823, 'mileage': -0.1812629715038298, 'tax': -0.029034919914858064, 'mpg': -0.34704462724750057, 'engineSize': 0.19309839218987915, ' Scala': -0.0742436925663115, ' Superb': 0.2757494896150686, ' Rapid': -0.3084895033970586, ' Octavia': -0.049618683854954285, ' Yeti': -0.22146701077514136, ' Roomster': -0.42662087386527847, ' Fabia': -0.2941283047345885, ' Kodiaq': 0.8436909258921683, ' Yeti Outdoor': -0.13791280495848643, ' Kamiq': 0.2760335274673769, ' Karoq': 0.5300534580485308, ' Citigo': -0.4130465268713183, 'Automatic': 0.167870278717535, 'Manual': -0.09231716169886114, 'Semi-Auto': 0.14428461095233036, 'Other': -1.3773221030584952, 'Petrol': -1.4991583388607055, 'Hybrid': 4.162581001280522, 'Diesel': -1.2861005593613148}\n",
      "D.Gradiente Est.:  {'intercepto': 0.39153890119773044, 'year': 0.26604519667170484, 'mileage': -0.1855805311214098, 'tax': -0.0008297477505258752, 'mpg': -0.1036902924012455, 'engineSize': 0.3023938697513906, ' Scala': 0.011300146463458073, ' Superb': 0.2978908557703028, ' Rapid': -0.37540562796448623, ' Octavia': -0.13716766722722237, ' Yeti': -0.15750976906398276, ' Roomster': -0.18642312017819873, ' Fabia': -0.38205105644360365, ' Kodiaq': 1.0381069321823817, ' Yeti Outdoor': -0.1155790215895813, ' Kamiq': 0.3680691670754825, ' Karoq': 0.6045815679852792, ' Citigo': -0.5742735058121025, 'Automatic': 0.2320795240867093, 'Manual': -0.05527210610957094, 'Semi-Auto': 0.21018905438208685, 'Other': -0.021537764044219167, 'Petrol': -0.385913574251892, 'Hybrid': 1.2998144993025122, 'Diesel': -0.5008242598086865}\n",
      "----------------------------------------------------------------------------------------------------------------------------------------------------------------------------------------------------------------------------------------------------------\n",
      "------- Resultados de la marca:  merc --------------------------------------------------------------------------------------------------------------------------------------------------------------------------------------------------------\n",
      "Scikit-learn:  {'intercepto': 1.4123168998950328, 'year': 0.273981725950823, 'mileage': -0.1812629715038298, 'tax': -0.029034919914858064, 'mpg': -0.34704462724750057, 'engineSize': 0.19309839218987915, ' Scala': -0.0742436925663115, ' Superb': 0.2757494896150686, ' Rapid': -0.3084895033970586, ' Octavia': -0.049618683854954285, ' Yeti': -0.22146701077514136, ' Roomster': -0.42662087386527847, ' Fabia': -0.2941283047345885, ' Kodiaq': 0.8436909258921683, ' Yeti Outdoor': -0.13791280495848643, ' Kamiq': 0.2760335274673769, ' Karoq': 0.5300534580485308, ' Citigo': -0.4130465268713183, 'Automatic': 0.167870278717535, 'Manual': -0.09231716169886114, 'Semi-Auto': 0.14428461095233036, 'Other': -1.3773221030584952, 'Petrol': -1.4991583388607055, 'Hybrid': 4.162581001280522, 'Diesel': -1.2861005593613148}\n",
      "D.Gradiente Est.:  {'intercepto': 0.39153890119773044, 'year': 0.26604519667170484, 'mileage': -0.1855805311214098, 'tax': -0.0008297477505258752, 'mpg': -0.1036902924012455, 'engineSize': 0.3023938697513906, ' Scala': 0.011300146463458073, ' Superb': 0.2978908557703028, ' Rapid': -0.37540562796448623, ' Octavia': -0.13716766722722237, ' Yeti': -0.15750976906398276, ' Roomster': -0.18642312017819873, ' Fabia': -0.38205105644360365, ' Kodiaq': 1.0381069321823817, ' Yeti Outdoor': -0.1155790215895813, ' Kamiq': 0.3680691670754825, ' Karoq': 0.6045815679852792, ' Citigo': -0.5742735058121025, 'Automatic': 0.2320795240867093, 'Manual': -0.05527210610957094, 'Semi-Auto': 0.21018905438208685, 'Other': -0.021537764044219167, 'Petrol': -0.385913574251892, 'Hybrid': 1.2998144993025122, 'Diesel': -0.5008242598086865}\n",
      "----------------------------------------------------------------------------------------------------------------------------------------------------------------------------------------------------------------------------------------------------------\n",
      "------- Resultados de la marca:  skoda --------------------------------------------------------------------------------------------------------------------------------------------------------------------------------------------------------\n",
      "Scikit-learn:  {'intercepto': 1.4123168998950328, 'year': 0.273981725950823, 'mileage': -0.1812629715038298, 'tax': -0.029034919914858064, 'mpg': -0.34704462724750057, 'engineSize': 0.19309839218987915, ' Scala': -0.0742436925663115, ' Superb': 0.2757494896150686, ' Rapid': -0.3084895033970586, ' Octavia': -0.049618683854954285, ' Yeti': -0.22146701077514136, ' Roomster': -0.42662087386527847, ' Fabia': -0.2941283047345885, ' Kodiaq': 0.8436909258921683, ' Yeti Outdoor': -0.13791280495848643, ' Kamiq': 0.2760335274673769, ' Karoq': 0.5300534580485308, ' Citigo': -0.4130465268713183, 'Automatic': 0.167870278717535, 'Manual': -0.09231716169886114, 'Semi-Auto': 0.14428461095233036, 'Other': -1.3773221030584952, 'Petrol': -1.4991583388607055, 'Hybrid': 4.162581001280522, 'Diesel': -1.2861005593613148}\n",
      "D.Gradiente Est.:  {'intercepto': 0.39153890119773044, 'year': 0.26604519667170484, 'mileage': -0.1855805311214098, 'tax': -0.0008297477505258752, 'mpg': -0.1036902924012455, 'engineSize': 0.3023938697513906, ' Scala': 0.011300146463458073, ' Superb': 0.2978908557703028, ' Rapid': -0.37540562796448623, ' Octavia': -0.13716766722722237, ' Yeti': -0.15750976906398276, ' Roomster': -0.18642312017819873, ' Fabia': -0.38205105644360365, ' Kodiaq': 1.0381069321823817, ' Yeti Outdoor': -0.1155790215895813, ' Kamiq': 0.3680691670754825, ' Karoq': 0.6045815679852792, ' Citigo': -0.5742735058121025, 'Automatic': 0.2320795240867093, 'Manual': -0.05527210610957094, 'Semi-Auto': 0.21018905438208685, 'Other': -0.021537764044219167, 'Petrol': -0.385913574251892, 'Hybrid': 1.2998144993025122, 'Diesel': -0.5008242598086865}\n",
      "----------------------------------------------------------------------------------------------------------------------------------------------------------------------------------------------------------------------------------------------------------\n",
      "------- Resultados de la marca:  toyota --------------------------------------------------------------------------------------------------------------------------------------------------------------------------------------------------------\n",
      "Scikit-learn:  {'intercepto': 1.4123168998950328, 'year': 0.273981725950823, 'mileage': -0.1812629715038298, 'tax': -0.029034919914858064, 'mpg': -0.34704462724750057, 'engineSize': 0.19309839218987915, ' Scala': -0.0742436925663115, ' Superb': 0.2757494896150686, ' Rapid': -0.3084895033970586, ' Octavia': -0.049618683854954285, ' Yeti': -0.22146701077514136, ' Roomster': -0.42662087386527847, ' Fabia': -0.2941283047345885, ' Kodiaq': 0.8436909258921683, ' Yeti Outdoor': -0.13791280495848643, ' Kamiq': 0.2760335274673769, ' Karoq': 0.5300534580485308, ' Citigo': -0.4130465268713183, 'Automatic': 0.167870278717535, 'Manual': -0.09231716169886114, 'Semi-Auto': 0.14428461095233036, 'Other': -1.3773221030584952, 'Petrol': -1.4991583388607055, 'Hybrid': 4.162581001280522, 'Diesel': -1.2861005593613148}\n",
      "D.Gradiente Est.:  {'intercepto': 0.39153890119773044, 'year': 0.26604519667170484, 'mileage': -0.1855805311214098, 'tax': -0.0008297477505258752, 'mpg': -0.1036902924012455, 'engineSize': 0.3023938697513906, ' Scala': 0.011300146463458073, ' Superb': 0.2978908557703028, ' Rapid': -0.37540562796448623, ' Octavia': -0.13716766722722237, ' Yeti': -0.15750976906398276, ' Roomster': -0.18642312017819873, ' Fabia': -0.38205105644360365, ' Kodiaq': 1.0381069321823817, ' Yeti Outdoor': -0.1155790215895813, ' Kamiq': 0.3680691670754825, ' Karoq': 0.6045815679852792, ' Citigo': -0.5742735058121025, 'Automatic': 0.2320795240867093, 'Manual': -0.05527210610957094, 'Semi-Auto': 0.21018905438208685, 'Other': -0.021537764044219167, 'Petrol': -0.385913574251892, 'Hybrid': 1.2998144993025122, 'Diesel': -0.5008242598086865}\n",
      "----------------------------------------------------------------------------------------------------------------------------------------------------------------------------------------------------------------------------------------------------------\n",
      "------- Resultados de la marca:  vauxhall --------------------------------------------------------------------------------------------------------------------------------------------------------------------------------------------------------\n",
      "Scikit-learn:  {'intercepto': 1.4123168998950328, 'year': 0.273981725950823, 'mileage': -0.1812629715038298, 'tax': -0.029034919914858064, 'mpg': -0.34704462724750057, 'engineSize': 0.19309839218987915, ' Scala': -0.0742436925663115, ' Superb': 0.2757494896150686, ' Rapid': -0.3084895033970586, ' Octavia': -0.049618683854954285, ' Yeti': -0.22146701077514136, ' Roomster': -0.42662087386527847, ' Fabia': -0.2941283047345885, ' Kodiaq': 0.8436909258921683, ' Yeti Outdoor': -0.13791280495848643, ' Kamiq': 0.2760335274673769, ' Karoq': 0.5300534580485308, ' Citigo': -0.4130465268713183, 'Automatic': 0.167870278717535, 'Manual': -0.09231716169886114, 'Semi-Auto': 0.14428461095233036, 'Other': -1.3773221030584952, 'Petrol': -1.4991583388607055, 'Hybrid': 4.162581001280522, 'Diesel': -1.2861005593613148}\n",
      "D.Gradiente Est.:  {'intercepto': 0.39153890119773044, 'year': 0.26604519667170484, 'mileage': -0.1855805311214098, 'tax': -0.0008297477505258752, 'mpg': -0.1036902924012455, 'engineSize': 0.3023938697513906, ' Scala': 0.011300146463458073, ' Superb': 0.2978908557703028, ' Rapid': -0.37540562796448623, ' Octavia': -0.13716766722722237, ' Yeti': -0.15750976906398276, ' Roomster': -0.18642312017819873, ' Fabia': -0.38205105644360365, ' Kodiaq': 1.0381069321823817, ' Yeti Outdoor': -0.1155790215895813, ' Kamiq': 0.3680691670754825, ' Karoq': 0.6045815679852792, ' Citigo': -0.5742735058121025, 'Automatic': 0.2320795240867093, 'Manual': -0.05527210610957094, 'Semi-Auto': 0.21018905438208685, 'Other': -0.021537764044219167, 'Petrol': -0.385913574251892, 'Hybrid': 1.2998144993025122, 'Diesel': -0.5008242598086865}\n",
      "----------------------------------------------------------------------------------------------------------------------------------------------------------------------------------------------------------------------------------------------------------\n",
      "------- Resultados de la marca:  vw --------------------------------------------------------------------------------------------------------------------------------------------------------------------------------------------------------\n",
      "Scikit-learn:  {'intercepto': 1.4123168998950328, 'year': 0.273981725950823, 'mileage': -0.1812629715038298, 'tax': -0.029034919914858064, 'mpg': -0.34704462724750057, 'engineSize': 0.19309839218987915, ' Scala': -0.0742436925663115, ' Superb': 0.2757494896150686, ' Rapid': -0.3084895033970586, ' Octavia': -0.049618683854954285, ' Yeti': -0.22146701077514136, ' Roomster': -0.42662087386527847, ' Fabia': -0.2941283047345885, ' Kodiaq': 0.8436909258921683, ' Yeti Outdoor': -0.13791280495848643, ' Kamiq': 0.2760335274673769, ' Karoq': 0.5300534580485308, ' Citigo': -0.4130465268713183, 'Automatic': 0.167870278717535, 'Manual': -0.09231716169886114, 'Semi-Auto': 0.14428461095233036, 'Other': -1.3773221030584952, 'Petrol': -1.4991583388607055, 'Hybrid': 4.162581001280522, 'Diesel': -1.2861005593613148}\n",
      "D.Gradiente Est.:  {'intercepto': 0.39153890119773044, 'year': 0.26604519667170484, 'mileage': -0.1855805311214098, 'tax': -0.0008297477505258752, 'mpg': -0.1036902924012455, 'engineSize': 0.3023938697513906, ' Scala': 0.011300146463458073, ' Superb': 0.2978908557703028, ' Rapid': -0.37540562796448623, ' Octavia': -0.13716766722722237, ' Yeti': -0.15750976906398276, ' Roomster': -0.18642312017819873, ' Fabia': -0.38205105644360365, ' Kodiaq': 1.0381069321823817, ' Yeti Outdoor': -0.1155790215895813, ' Kamiq': 0.3680691670754825, ' Karoq': 0.6045815679852792, ' Citigo': -0.5742735058121025, 'Automatic': 0.2320795240867093, 'Manual': -0.05527210610957094, 'Semi-Auto': 0.21018905438208685, 'Other': -0.021537764044219167, 'Petrol': -0.385913574251892, 'Hybrid': 1.2998144993025122, 'Diesel': -0.5008242598086865}\n",
      "----------------------------------------------------------------------------------------------------------------------------------------------------------------------------------------------------------------------------------------------------------\n"
     ]
    }
   ],
   "source": [
    "MSE = dict()\n",
    "for marca in marcas:\n",
    "    print('------- Resultados de la marca: ', marca + ' ' +'-'*200)\n",
    "    print('Scikit-learn: ', resultados_sklearn['skoda'])\n",
    "    print('D.Gradiente Est.: ', resultados_p2['skoda'])\n",
    "    print('-'*250)\n",
    "    MSE[marca] = [MSE_p1[marca], MSE_p2[marca]]\n",
    "#fin for\n",
    "MSE = pd.DataFrame(MSE, index=['Scikit-learn', 'D.Gradiente Est.']).T"
   ]
  },
  {
   "cell_type": "code",
   "execution_count": 12,
   "id": "342e8840",
   "metadata": {},
   "outputs": [
    {
     "name": "stdout",
     "output_type": "stream",
     "text": [
      "          Scikit-learn  D.Gradiente Est.\n",
      "audi      2.771016e+16      1.214588e-01\n",
      "bmw       1.219173e-01      1.265187e-01\n",
      "ford      1.938699e-01     6.709349e+139\n",
      "hyundi    1.199799e-01      1.223964e-01\n",
      "merc      1.857752e-01      1.938924e-01\n",
      "skoda     7.572449e-02      8.840013e-02\n",
      "toyota    7.290788e-02      9.206250e-02\n",
      "vauxhall  1.453244e-01      1.511044e-01\n",
      "vw        1.076397e-01      1.087639e-01\n"
     ]
    }
   ],
   "source": [
    "print(MSE)"
   ]
  }
 ],
 "metadata": {
  "kernelspec": {
   "display_name": "Python 3 (ipykernel)",
   "language": "python",
   "name": "python3"
  },
  "language_info": {
   "codemirror_mode": {
    "name": "ipython",
    "version": 3
   },
   "file_extension": ".py",
   "mimetype": "text/x-python",
   "name": "python",
   "nbconvert_exporter": "python",
   "pygments_lexer": "ipython3",
   "version": "3.11.5"
  }
 },
 "nbformat": 4,
 "nbformat_minor": 5
}
