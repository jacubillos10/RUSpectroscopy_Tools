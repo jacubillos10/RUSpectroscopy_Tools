{
 "cells": [
  {
   "cell_type": "code",
   "execution_count": 1,
   "metadata": {},
   "outputs": [],
   "source": [
    "import numpy as np\n",
    "import matplotlib.pyplot as plt\n",
    "import sklearn\n",
    "from sklearn.linear_model import LinearRegression\n",
    "import pandas as pd\n",
    "from sklearn.model_selection import train_test_split"
   ]
  },
  {
   "cell_type": "code",
   "execution_count": 2,
   "metadata": {},
   "outputs": [
    {
     "name": "stdout",
     "output_type": "stream",
     "text": [
      "['bx', 'by', 'bz', 'C00', 'C01', 'C02', 'C03', 'C04', 'C05', 'C11', 'C12', 'C13', 'C14', 'C15', 'C22', 'C23', 'C24', 'C25', 'C33', 'C34', 'C35', 'C44', 'C45', 'C55', 'eig_0', 'eig_1', 'eig_2', 'eig_3', 'eig_4', 'eig_5', 'eig_6', 'eig_7', 'eig_8', 'eig_9', 'eig_10', 'eig_11', 'eig_12', 'eig_13']\n"
     ]
    }
   ],
   "source": [
    "N_eigens = 14\n",
    "datos_antigua_full = pd.read_csv(\"l_Unif.csv\", delimiter=\",\", on_bad_lines='skip', usecols=tuple(range(26 + N_eigens)))\n",
    "datos_nueva_full = pd.read_csv(\"a_Unif.csv\", delimiter=\",\", on_bad_lines='skip', usecols=tuple(range(26 + N_eigens)))\n",
    "datos_antigua = datos_antigua_full\n",
    "datos_nueva = datos_nueva_full\n",
    "N_datos = len(datos_nueva)\n",
    "columnas_normalizar_a = list(datos_nueva.keys()[2:])\n",
    "columnas_normalizar_l = list(datos_antigua.keys()[2:])\n",
    "print(columnas_normalizar_a)\n",
    "print(columnas_normalizar_l)"
   ]
  },
  {
   "cell_type": "code",
   "execution_count": 3,
   "metadata": {},
   "outputs": [],
   "source": [
    "def one_hottear(d_frame, cols_discretas):\n",
    "    cols_nuevas = []\n",
    "    for column in cols_discretas:\n",
    "        posibles_valores = set(d_frame[column])\n",
    "        for i in posibles_valores:\n",
    "            d_frame[column + str(i)] = 0\n",
    "            d_frame.loc[d_frame[column] == i, column + str(i)] = 1\n",
    "            cols_nuevas.append(column + str(i))\n",
    "        #fin for \n",
    "        del d_frame[column]\n",
    "    #fin for \n",
    "    d_frame.loc[:, cols_nuevas + [col for col in d_frame.columns if col not in cols_nuevas]]\n",
    "#fin función"
   ]
  },
  {
   "cell_type": "code",
   "execution_count": 4,
   "metadata": {},
   "outputs": [],
   "source": [
    "one_hottear(datos_antigua, [\"# Shape\", \"Cry_st\"])\n",
    "one_hottear(datos_nueva, [\"# Shape\", \"Cry_st\"])"
   ]
  },
  {
   "cell_type": "code",
   "execution_count": 5,
   "metadata": {},
   "outputs": [],
   "source": [
    "Datos_train_l, Datos_test_l = train_test_split(datos_antigua, test_size = 0.4)\n",
    "Datos_train_a, Datos_test_a = train_test_split(datos_nueva, test_size = 0.4)"
   ]
  },
  {
   "cell_type": "code",
   "execution_count": 6,
   "metadata": {},
   "outputs": [],
   "source": [
    "def normalizar(dataSet, features, parametros = []):\n",
    "    \"\"\"\n",
    "    Esta función resta la media y luego divide entre la desviación estandar de cada dato en cada columna. Si se le especifica la media y la desviación en los parámetros \n",
    "    Usa esa media y desviación dada, de lo contrario, calcula la media y la desviación de cada columna especificada en \"features\"\n",
    "    @input: dataSet <pd.DataFrame>: Tabla de datos a la que se le va a dar normalización a la columans dadas\n",
    "    @input: features <list>: lista de \"features\" o columnas que se van a normalizar\n",
    "    @input: (opcional) parametros <dict>: En caso de que se quiera normalizar con una media y una desviación dada se especifican en un diccionario así: {'mileage':{'media': 2.9, 'desviacion': 7}}\n",
    "    \"\"\"\n",
    "    if len(parametros) == 0:\n",
    "        for feature in features:\n",
    "            media = np.mean(dataSet[feature])\n",
    "            desviacion = np.std(dataSet[feature])\n",
    "            if desviacion != 0:\n",
    "                dataSet[feature] = (dataSet[feature] - media)/desviacion\n",
    "            #fin if \n",
    "        #fin for\n",
    "    #fin if \n",
    "    else:\n",
    "        for feature in features:\n",
    "            media = parametros[feature]['media']\n",
    "            desviacion = parametros[feature]['desviacion']\n",
    "            if desviacion != 0:\n",
    "                dataSet[feature] = (dataSet[feature] - media)/desviacion\n",
    "            #fin if \n",
    "        #fin for\n",
    "#fin función"
   ]
  },
  {
   "cell_type": "code",
   "execution_count": 7,
   "metadata": {},
   "outputs": [],
   "source": [
    "Estadisticos_train_l= dict(map(lambda x: (x, {'media': np.mean(Datos_train_l[x]), 'desviacion': np.std(Datos_train_l[x])}), Datos_train_l.keys()))\n",
    "Estadisticos_train_a= dict(map(lambda x: (x, {'media': np.mean(Datos_train_a[x]), 'desviacion': np.std(Datos_train_a[x])}), Datos_train_a.keys()))"
   ]
  },
  {
   "cell_type": "code",
   "execution_count": 8,
   "metadata": {},
   "outputs": [],
   "source": [
    "normalizar(Datos_train_l, columnas_normalizar_l)\n",
    "normalizar(Datos_train_a, columnas_normalizar_a)\n",
    "normalizar(Datos_test_l, columnas_normalizar_l, Estadisticos_train_l)\n",
    "normalizar(Datos_test_a, columnas_normalizar_a, Estadisticos_train_a)"
   ]
  },
  {
   "cell_type": "code",
   "execution_count": 9,
   "metadata": {},
   "outputs": [
    {
     "name": "stdout",
     "output_type": "stream",
     "text": [
      "['# Shape0.0', '# Shape1.0', '# Shape2.0', 'bx', 'by', 'bz', 'eig_0', 'eig_1', 'eig_2', 'eig_3', 'eig_4', 'eig_5', 'eig_6', 'eig_7', 'eig_8', 'eig_9', 'eig_10', 'eig_11', 'eig_12', 'eig_13']\n",
      "['# Shape0.0', '# Shape1.0', '# Shape2.0', 'Density', 'Lx', 'Ly', 'Lz', '(omega^2)_0', '(omega^2)_1', '(omega^2)_2', '(omega^2)_3', '(omega^2)_4', '(omega^2)_5', '(omega^2)_6', '(omega^2)_7', '(omega^2)_8', '(omega^2)_9', '(omega^2)_10', '(omega^2)_11', '(omega^2)_12']\n"
     ]
    }
   ],
   "source": [
    "\"\"\"\n",
    "TODO: \n",
    "1) Hacer una lista con los features que serán nuestros X. Escoger cualquiera de los CXX y ese será nuestro 'y' (luego haremos un loop para cubrir todos los CXX)\n",
    "2) Hacer una regresión lineal con cada uno de los CXX y reportar un MSE por cada uno de los CXX\n",
    "\"\"\"\n",
    "features_discretos = list(filter(lambda x: \"Shape\" in x or \"CrySt\" in x, Datos_train_a.keys()))\n",
    "features_X_a = list(filter(lambda x: \"eig\" in x, Datos_train_a.keys()))\n",
    "features_X_l = list(filter(lambda x: \"omega\" in x, Datos_train_l.keys()))\n",
    "features_geo_l = [\"Density\", \"Lx\", \"Ly\", \"Lz\"]\n",
    "features_geo_a = [\"bx\", \"by\", \"bz\"]\n",
    "features_a = features_discretos + features_geo_a + features_X_a\n",
    "features_l = features_discretos + features_geo_l + features_X_l\n",
    "print(features_a)\n",
    "print(features_l)"
   ]
  },
  {
   "cell_type": "code",
   "execution_count": 10,
   "metadata": {},
   "outputs": [],
   "source": [
    "X_train_a = Datos_train_a[features_a]\n",
    "X_train_l = Datos_test_l[features_l]\n",
    "X_test_a = Datos_test_a[features_a]\n",
    "X_test_l = Datos_test_l[features_l]"
   ]
  },
  {
   "cell_type": "code",
   "execution_count": 11,
   "metadata": {},
   "outputs": [],
   "source": [
    "targets = [\"C00\", \"C11\", \"C22\", \"C33\", \"C44\", \"C55\", \"C01\", \"C02\", \"C12\"]\n",
    "MSE_a = dict()\n",
    "MSE_l = dict()\n",
    "W_a = dict()\n",
    "W_l = dict()\n",
    "for target in targets:\n",
    "    y_train_a = Datos_train_a[target]\n",
    "    y_train_l = Datos_test_l[target]\n",
    "    y_test_a = Datos_test_a[target]\n",
    "    y_test_l = Datos_test_l[target]\n",
    "    modelo_a = LinearRegression()\n",
    "    modelo_l = LinearRegression()\n",
    "    modelo_a.fit(X_train_a, y_train_a)\n",
    "    modelo_l.fit(X_train_l, y_train_l)\n",
    "    w_a = [modelo_a.intercept_, *modelo_a.coef_]\n",
    "    w_l = [modelo_l.intercept_, *modelo_l.coef_]\n",
    "    y_gorro_test_a = X_test_a.dot(w_a[1:]) + w_a[0]\n",
    "    y_gorro_test_l = X_test_l.dot(w_l[1:]) + w_l[0]\n",
    "    W_a[target] = dict(map(lambda x: (features_a[x], w_a[1:][x]), range(len(features_a))))\n",
    "    W_l[target] = dict(map(lambda x: (features_l[x], w_l[1:][x]), range(len(features_l))))\n",
    "    W_a[target][\"intercepto\"] = w_a[0]\n",
    "    W_l[target][\"intercepto\"] = w_l[0]\n",
    "    W_a[target][\"MSE\"] = (1/(len(y_test_a)))*(y_test_a - y_gorro_test_a).dot(y_test_a - y_gorro_test_a)\n",
    "    W_l[target][\"MSE\"] = (1/(len(y_test_l)))*(y_test_l - y_gorro_test_l).dot(y_test_l - y_gorro_test_l)\n",
    "    media_a = Estadisticos_train_a[target][\"media\"]\n",
    "    media_l = Estadisticos_train_l[target][\"media\"]\n",
    "    desv_a = Estadisticos_train_a[target][\"desviacion\"]\n",
    "    desv_l = Estadisticos_train_l[target][\"desviacion\"]\n",
    "    nu_test_a = (media_a + desv_a*y_gorro_test_a)/(media_a + desv_a*y_test_a)\n",
    "    nu_test_l = (media_l + desv_l*y_gorro_test_l)/(media_l + desv_l*y_test_l)\n",
    "    W_a[target][\"MSE_p\"] = (1/(len(y_test_a)))*(1 - nu_test_a).dot(1 - nu_test_a)\n",
    "    W_l[target][\"MSE_p\"] = (1/(len(y_test_l)))*(1 - nu_test_l).dot(1 - nu_test_l)\n",
    "\n",
    "#fin for \n",
    "W_l = pd.DataFrame(W_l)\n",
    "W_a = pd.DataFrame(W_a)"
   ]
  },
  {
   "cell_type": "code",
   "execution_count": 12,
   "metadata": {},
   "outputs": [
    {
     "name": "stdout",
     "output_type": "stream",
     "text": [
      "b y pesos para el problema adimensionalizado: \n",
      "                 C00       C11       C22       C33       C44       C55  \\\n",
      "# Shape0.0  0.183499  0.175457  0.169061  0.296340  0.302618  0.297225   \n",
      "# Shape1.0  0.048016  0.043074  0.030667  0.065168  0.066050  0.061369   \n",
      "# Shape2.0 -0.231515 -0.218531 -0.199728 -0.361508 -0.368667 -0.358594   \n",
      "bx          0.368131  0.359084  0.325705  0.464450  0.468370  0.461168   \n",
      "by          0.353388  0.344463  0.335879  0.467283  0.466818  0.461997   \n",
      "bz          0.375704  0.372552  0.341300  0.490392  0.494587  0.485341   \n",
      "eig_0      -0.529921 -0.514428 -0.440516 -0.058358 -0.051182 -0.085085   \n",
      "eig_1       0.261387  0.257094  0.193835 -0.399500 -0.401682 -0.318451   \n",
      "eig_2       0.345761  0.318338  0.297734  0.158656  0.150373  0.164125   \n",
      "eig_3      -0.124565 -0.070371 -0.114684 -0.258441 -0.246654 -0.153675   \n",
      "eig_4      -0.997341 -0.995894 -0.996175 -0.386841 -0.405774 -0.606962   \n",
      "eig_5       0.656086  0.610429  0.703939  0.924574  0.947440  0.848101   \n",
      "eig_6       0.145412  0.142422  0.191526  0.132279  0.128679  0.192397   \n",
      "eig_7      -0.150415 -0.135758 -0.226741 -0.317971 -0.297691 -0.298577   \n",
      "eig_8      -0.046839 -0.118827 -0.057965 -0.220259 -0.222873 -0.148134   \n",
      "eig_9      -0.037385  0.062676  0.010239  0.057663  0.026672  0.049329   \n",
      "eig_10      0.073395  0.027697  0.122746  0.023702  0.052240  0.037914   \n",
      "eig_11      0.230798  0.240687  0.280713  0.442258  0.402775  0.403239   \n",
      "eig_12      0.213406  0.246681  0.153681  0.114846  0.106061  0.122581   \n",
      "eig_13      0.583945  0.550030  0.468944  0.648889  0.671838  0.642318   \n",
      "intercepto -0.001398 -0.001318 -0.001201 -0.002178 -0.002221 -0.002159   \n",
      "MSE         0.621361  0.629739  0.658600  0.346101  0.348661  0.378168   \n",
      "MSE_p       1.128986  1.144264  1.237381  0.236538  0.237431  0.262357   \n",
      "\n",
      "                     C01           C02           C12  \n",
      "# Shape0.0      0.090520      0.085149      0.084484  \n",
      "# Shape1.0      0.014614      0.019232      0.018649  \n",
      "# Shape2.0     -0.105133     -0.104380     -0.103133  \n",
      "bx              0.162894      0.156319      0.158645  \n",
      "by              0.159818      0.154705      0.154560  \n",
      "bz              0.170547      0.166320      0.166824  \n",
      "eig_0          -0.019675     -0.016554     -0.015046  \n",
      "eig_1          -0.276608     -0.286429     -0.290203  \n",
      "eig_2           0.388414      0.395647      0.394218  \n",
      "eig_3          -0.116917     -0.140607     -0.131267  \n",
      "eig_4          -0.482447     -0.445594     -0.446286  \n",
      "eig_5           0.692013      0.738090      0.710624  \n",
      "eig_6          -0.308840     -0.382880     -0.350063  \n",
      "eig_7           0.022850      0.084601      0.081366  \n",
      "eig_8          -0.132055     -0.191945     -0.167482  \n",
      "eig_9           0.018416     -0.034622     -0.052099  \n",
      "eig_10          0.446344      0.494907      0.491302  \n",
      "eig_11          0.172202      0.163030      0.147175  \n",
      "eig_12         -0.405086     -0.418877     -0.417327  \n",
      "eig_13          0.304115      0.336373      0.340675  \n",
      "intercepto     -0.000631     -0.000629     -0.000621  \n",
      "MSE             0.904147      0.905896      0.905303  \n",
      "MSE_p       25537.977069  25758.070152  25577.377428  \n"
     ]
    }
   ],
   "source": [
    "print(\"b y pesos para el problema adimensionalizado: \")\n",
    "print(W_a)\n",
    "nombre_archivo_a = \"Regresion_lineal_a_\" + str(N_datos) + \".csv\"\n",
    "W_a.to_csv(nombre_archivo_a)"
   ]
  },
  {
   "cell_type": "code",
   "execution_count": 13,
   "metadata": {},
   "outputs": [
    {
     "name": "stdout",
     "output_type": "stream",
     "text": [
      "b y pesos para el problema a la antigua\n",
      "                   C00       C11       C22       C33       C44       C55  \\\n",
      "# Shape0.0    0.039856  0.043575  0.026410  0.042101  0.040987  0.042360   \n",
      "# Shape1.0   -0.008231 -0.013968 -0.016587 -0.002627  0.002536  0.000891   \n",
      "# Shape2.0   -0.031625 -0.029606 -0.009824 -0.039474 -0.043523 -0.043251   \n",
      "Density       0.039525  0.033617  0.036838  0.053046  0.051667  0.054533   \n",
      "Lx            0.054425  0.046772  0.046842  0.054988  0.052193  0.054331   \n",
      "Ly            0.037013  0.033678  0.037671  0.056572  0.056602  0.055211   \n",
      "Lz            0.037875  0.037693  0.042474  0.064592  0.063600  0.063118   \n",
      "(omega^2)_0  -0.139496 -0.160866 -0.075844  0.095861  0.099984  0.089823   \n",
      "(omega^2)_1   0.171547  0.198446  0.150901 -0.150493 -0.141881 -0.073009   \n",
      "(omega^2)_2   0.082872  0.086692  0.050775 -0.033389 -0.027186 -0.032468   \n",
      "(omega^2)_3  -0.009212  0.004614 -0.012188  0.015368  0.008382 -0.044318   \n",
      "(omega^2)_4  -0.144774 -0.178855 -0.294137  0.160594  0.135898  0.086420   \n",
      "(omega^2)_5   0.042334  0.060654  0.264332  0.365208  0.380851  0.299909   \n",
      "(omega^2)_6  -0.057523 -0.060865 -0.184866 -0.335940 -0.359509 -0.286252   \n",
      "(omega^2)_7  -0.114384 -0.130186 -0.207730 -0.382091 -0.396958 -0.326596   \n",
      "(omega^2)_8  -0.199451 -0.152054 -0.117141 -0.491068 -0.490032 -0.422750   \n",
      "(omega^2)_9   0.369816  0.421319  0.558633  0.900693  0.924213  0.796537   \n",
      "(omega^2)_10  0.322508  0.236154  0.073204  0.305264  0.320300  0.356596   \n",
      "(omega^2)_11  0.026551  0.025035  0.244105  0.277095  0.300603  0.317440   \n",
      "(omega^2)_12 -0.174531 -0.176322 -0.276103 -0.486639 -0.511391 -0.519285   \n",
      "intercepto   -0.006444 -0.006646 -0.001411 -0.007874 -0.004922 -0.004603   \n",
      "MSE           0.977492  0.967923  0.997993  0.952117  0.960400  0.968371   \n",
      "MSE_p         2.723404  2.670636  2.678004  0.740007  0.743925  0.758147   \n",
      "\n",
      "                       C01           C02           C12  \n",
      "# Shape0.0        0.021449      0.020443      0.020457  \n",
      "# Shape1.0       -0.013880     -0.008863     -0.015032  \n",
      "# Shape2.0       -0.007569     -0.011580     -0.005425  \n",
      "Density           0.010772      0.009805      0.012138  \n",
      "Lx                0.035778      0.030545      0.031153  \n",
      "Ly                0.002581      0.007952      0.005950  \n",
      "Lz                0.024285      0.028034      0.025403  \n",
      "(omega^2)_0       0.107661      0.110666      0.113551  \n",
      "(omega^2)_1      -0.133299     -0.139390     -0.129548  \n",
      "(omega^2)_2       0.172387      0.151845      0.133774  \n",
      "(omega^2)_3      -0.188054     -0.213673     -0.225991  \n",
      "(omega^2)_4      -0.029699      0.012988      0.017344  \n",
      "(omega^2)_5       0.208241      0.244848      0.250096  \n",
      "(omega^2)_6      -0.214002     -0.194496     -0.180882  \n",
      "(omega^2)_7      -0.141857     -0.132928     -0.134540  \n",
      "(omega^2)_8      -0.212938     -0.251172     -0.238943  \n",
      "(omega^2)_9       0.542739      0.494641      0.485397  \n",
      "(omega^2)_10      0.022892      0.077738      0.057820  \n",
      "(omega^2)_11      0.395203      0.362761      0.325633  \n",
      "(omega^2)_12     -0.439596     -0.433688     -0.383365  \n",
      "intercepto       -0.001221     -0.000392     -0.004938  \n",
      "MSE               0.990553      0.993786      0.997385  \n",
      "MSE_p         36528.260361  36964.509524  36545.357860  \n"
     ]
    }
   ],
   "source": [
    "print(\"b y pesos para el problema a la antigua\")\n",
    "print(W_l)\n",
    "nombre_archivo_l = \"Regresion_lineal_l_\" + str(N_datos) + \".csv\"\n",
    "W_l.to_csv(nombre_archivo_l)"
   ]
  },
  {
   "cell_type": "code",
   "execution_count": 15,
   "metadata": {},
   "outputs": [
    {
     "name": "stdout",
     "output_type": "stream",
     "text": [
      "C00    0.621361\n",
      "C11    0.629739\n",
      "C22    0.658600\n",
      "C33    0.346101\n",
      "C44    0.348661\n",
      "C55    0.378168\n",
      "C01    0.904147\n",
      "C02    0.905896\n",
      "C12    0.905303\n",
      "Name: MSE, dtype: float64\n"
     ]
    }
   ],
   "source": [
    "print(W_a.T[\"MSE\"])"
   ]
  },
  {
   "cell_type": "code",
   "execution_count": null,
   "metadata": {},
   "outputs": [],
   "source": []
  }
 ],
 "metadata": {
  "kernelspec": {
   "display_name": "Python 3",
   "language": "python",
   "name": "python3"
  },
  "language_info": {
   "codemirror_mode": {
    "name": "ipython",
    "version": 3
   },
   "file_extension": ".py",
   "mimetype": "text/x-python",
   "name": "python",
   "nbconvert_exporter": "python",
   "pygments_lexer": "ipython3",
   "version": "3.12.4"
  }
 },
 "nbformat": 4,
 "nbformat_minor": 2
}
