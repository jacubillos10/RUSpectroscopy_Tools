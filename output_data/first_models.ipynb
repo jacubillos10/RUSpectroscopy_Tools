{
 "cells": [
  {
   "cell_type": "code",
   "execution_count": 1,
   "metadata": {},
   "outputs": [],
   "source": [
    "import numpy as np\n",
    "import matplotlib.pyplot as plt\n",
    "import sklearn\n",
    "from sklearn.linear_model import LinearRegression\n",
    "import pandas as pd\n",
    "from sklearn.model_selection import train_test_split"
   ]
  },
  {
   "cell_type": "code",
   "execution_count": 2,
   "metadata": {},
   "outputs": [
    {
     "name": "stdout",
     "output_type": "stream",
     "text": [
      "['bx', 'by', 'bz', 'C00', 'C01', 'C02', 'C03', 'C04', 'C05', 'C11', 'C12', 'C13', 'C14', 'C15', 'C22', 'C23', 'C24', 'C25', 'C33', 'C34', 'C35', 'C44', 'C45', 'C55', 'eig_0', 'eig_1', 'eig_2', 'eig_3', 'eig_4', 'eig_5', 'eig_6', 'eig_7', 'eig_8', 'eig_9', 'eig_10', 'eig_11', 'eig_12', 'eig_13']\n"
     ]
    }
   ],
   "source": [
    "datos_antigua_full = pd.read_csv(\"l_Unif.csv\", delimiter=\",\", on_bad_lines='skip', usecols=tuple(range(40)))\n",
    "datos_nueva_full = pd.read_csv(\"a_Unif.csv\", delimiter=\",\", on_bad_lines='skip', usecols=tuple(range(40)))\n",
    "datos_antigua = datos_antigua_full\n",
    "datos_nueva = datos_nueva_full\n",
    "N_datos = len(datos_nueva)\n",
    "columnas_normalizar_a = list(datos_nueva.keys()[2:])\n",
    "columnas_normalizar_l = list(datos_antigua.keys()[2:])\n",
    "print(columnas_normalizar_a)"
   ]
  },
  {
   "cell_type": "code",
   "execution_count": 3,
   "metadata": {},
   "outputs": [],
   "source": [
    "def one_hottear(d_frame, cols_discretas):\n",
    "    cols_nuevas = []\n",
    "    for column in cols_discretas:\n",
    "        posibles_valores = set(d_frame[column])\n",
    "        for i in posibles_valores:\n",
    "            d_frame[column + str(i)] = 0\n",
    "            d_frame.loc[d_frame[column] == i, column + str(i)] = 1\n",
    "            cols_nuevas.append(column + str(i))\n",
    "        #fin for \n",
    "        del d_frame[column]\n",
    "    #fin for \n",
    "    d_frame.loc[:, cols_nuevas + [col for col in d_frame.columns if col not in cols_nuevas]]\n",
    "#fin función"
   ]
  },
  {
   "cell_type": "code",
   "execution_count": 4,
   "metadata": {},
   "outputs": [],
   "source": [
    "one_hottear(datos_antigua, [\"# Shape\", \"Cry_st\"])\n",
    "one_hottear(datos_nueva, [\"# Shape\", \"Cry_st\"])"
   ]
  },
  {
   "cell_type": "code",
   "execution_count": 5,
   "metadata": {},
   "outputs": [],
   "source": [
    "Datos_train_l, Datos_test_l = train_test_split(datos_antigua, test_size = 0.4)\n",
    "Datos_train_a, Datos_test_a = train_test_split(datos_nueva, test_size = 0.4)"
   ]
  },
  {
   "cell_type": "code",
   "execution_count": 6,
   "metadata": {},
   "outputs": [],
   "source": [
    "def normalizar(dataSet, features, parametros = []):\n",
    "    \"\"\"\n",
    "    Esta función resta la media y luego divide entre la desviación estandar de cada dato en cada columna. Si se le especifica la media y la desviación en los parámetros \n",
    "    Usa esa media y desviación dada, de lo contrario, calcula la media y la desviación de cada columna especificada en \"features\"\n",
    "    @input: dataSet <pd.DataFrame>: Tabla de datos a la que se le va a dar normalización a la columans dadas\n",
    "    @input: features <list>: lista de \"features\" o columnas que se van a normalizar\n",
    "    @input: (opcional) parametros <dict>: En caso de que se quiera normalizar con una media y una desviación dada se especifican en un diccionario así: {'mileage':{'media': 2.9, 'desviacion': 7}}\n",
    "    \"\"\"\n",
    "    if len(parametros) == 0:\n",
    "        for feature in features:\n",
    "            media = np.mean(dataSet[feature])\n",
    "            desviacion = np.std(dataSet[feature])\n",
    "            if desviacion != 0:\n",
    "                dataSet[feature] = (dataSet[feature] - media)/desviacion\n",
    "            #fin if \n",
    "        #fin for\n",
    "    #fin if \n",
    "    else:\n",
    "        for feature in features:\n",
    "            media = parametros[feature]['media']\n",
    "            desviacion = parametros[feature]['desviacion']\n",
    "            if desviacion != 0:\n",
    "                dataSet[feature] = (dataSet[feature] - media)/desviacion\n",
    "            #fin if \n",
    "        #fin for\n",
    "#fin función"
   ]
  },
  {
   "cell_type": "code",
   "execution_count": 7,
   "metadata": {},
   "outputs": [],
   "source": [
    "Estadisticos_train_l= dict(map(lambda x: (x, {'media': np.mean(Datos_train_l[x]), 'desviacion': np.std(Datos_train_l[x])}), Datos_train_l.keys()))\n",
    "Estadisticos_train_a= dict(map(lambda x: (x, {'media': np.mean(Datos_train_a[x]), 'desviacion': np.std(Datos_train_a[x])}), Datos_train_a.keys()))"
   ]
  },
  {
   "cell_type": "code",
   "execution_count": 8,
   "metadata": {},
   "outputs": [],
   "source": [
    "normalizar(Datos_train_l, columnas_normalizar_l)\n",
    "normalizar(Datos_train_a, columnas_normalizar_a)\n",
    "normalizar(Datos_test_l, columnas_normalizar_l, Estadisticos_train_l)\n",
    "normalizar(Datos_test_a, columnas_normalizar_a, Estadisticos_train_a)"
   ]
  },
  {
   "cell_type": "code",
   "execution_count": 9,
   "metadata": {},
   "outputs": [
    {
     "name": "stdout",
     "output_type": "stream",
     "text": [
      "['# Shape0.0', '# Shape1.0', '# Shape2.0', 'bx', 'by', 'bz', 'eig_0', 'eig_1', 'eig_2', 'eig_3', 'eig_4', 'eig_5', 'eig_6', 'eig_7', 'eig_8', 'eig_9', 'eig_10', 'eig_11', 'eig_12', 'eig_13', 'eig_14', 'eig_15', 'eig_16', 'eig_17', 'eig_18', 'eig_19', 'eig_20', 'eig_21', 'eig_22', 'eig_23', 'eig_24', 'eig_25', 'eig_26', 'eig_27', 'eig_28', 'eig_29', 'eig_30', 'eig_31', 'eig_32', 'eig_33', 'eig_34', 'eig_35', 'eig_36', 'eig_37', 'eig_38', 'eig_39', 'eig_40', 'eig_41', 'eig_42', 'eig_43', 'eig_44', 'eig_45', 'eig_46', 'eig_47', 'eig_48', 'eig_49', 'eig_50', 'eig_51', 'eig_52', 'eig_53', 'eig_54', 'eig_55', 'eig_56', 'eig_57', 'eig_58', 'eig_59', 'eig_60', 'eig_61', 'eig_62', 'eig_63', 'eig_64', 'eig_65', 'eig_66', 'eig_67', 'eig_68', 'eig_69', 'eig_70', 'eig_71', 'eig_72', 'eig_73', 'eig_74', 'eig_75', 'eig_76', 'eig_77', 'eig_78', 'eig_79', 'eig_80', 'eig_81', 'eig_82', 'eig_83', 'eig_84', 'eig_85', 'eig_86', 'eig_87', 'eig_88', 'eig_89', 'eig_90', 'eig_91', 'eig_92', 'eig_93', 'eig_94', 'eig_95', 'eig_96', 'eig_97', 'eig_98', 'eig_99', 'eig_100', 'eig_101', 'eig_102', 'eig_103', 'eig_104', 'eig_105', 'eig_106', 'eig_107', 'eig_108', 'eig_109', 'eig_110', 'eig_111', 'eig_112', 'eig_113', 'eig_114', 'eig_115', 'eig_116', 'eig_117', 'eig_118', 'eig_119', 'eig_120', 'eig_121', 'eig_122', 'eig_123', 'eig_124', 'eig_125', 'eig_126', 'eig_127', 'eig_128', 'eig_129', 'eig_130', 'eig_131', 'eig_132', 'eig_133', 'eig_134', 'eig_135', 'eig_136', 'eig_137', 'eig_138', 'eig_139', 'eig_140', 'eig_141', 'eig_142', 'eig_143', 'eig_144', 'eig_145', 'eig_146', 'eig_147', 'eig_148', 'eig_149', 'eig_150', 'eig_151', 'eig_152', 'eig_153', 'eig_154', 'eig_155', 'eig_156', 'eig_157', 'eig_158', 'eig_159', 'eig_160', 'eig_161', 'eig_162', 'eig_163', 'eig_164', 'eig_165', 'eig_166', 'eig_167', 'eig_168', 'eig_169', 'eig_170', 'eig_171', 'eig_172', 'eig_173', 'eig_174', 'eig_175', 'eig_176', 'eig_177', 'eig_178', 'eig_179', 'eig_180', 'eig_181', 'eig_182', 'eig_183', 'eig_184', 'eig_185', 'eig_186', 'eig_187', 'eig_188', 'eig_189', 'eig_190', 'eig_191', 'eig_192', 'eig_193', 'eig_194', 'eig_195', 'eig_196', 'eig_197', 'eig_198', 'eig_199', 'eig_200', 'eig_201', 'eig_202', 'eig_203', 'eig_204', 'eig_205', 'eig_206', 'eig_207', 'eig_208', 'eig_209', 'eig_210', 'eig_211', 'eig_212', 'eig_213', 'eig_214', 'eig_215', 'eig_216', 'eig_217', 'eig_218', 'eig_219', 'eig_220', 'eig_221', 'eig_222', 'eig_223', 'eig_224', 'eig_225', 'eig_226', 'eig_227', 'eig_228', 'eig_229', 'eig_230', 'eig_231', 'eig_232', 'eig_233', 'eig_234', 'eig_235', 'eig_236', 'eig_237', 'eig_238', 'eig_239', 'eig_240', 'eig_241', 'eig_242', 'eig_243', 'eig_244', 'eig_245', 'eig_246', 'eig_247', 'eig_248', 'eig_249', 'eig_250', 'eig_251', 'eig_252', 'eig_253', 'eig_254', 'eig_255', 'eig_256', 'eig_257', 'eig_258', 'eig_259', 'eig_260', 'eig_261', 'eig_262', 'eig_263', 'eig_264', 'eig_265', 'eig_266', 'eig_267', 'eig_268', 'eig_269', 'eig_270', 'eig_271', 'eig_272', 'eig_273', 'eig_274', 'eig_275', 'eig_276', 'eig_277', 'eig_278', 'eig_279', 'eig_280', 'eig_281', 'eig_282', 'eig_283', 'eig_284', 'eig_285', 'eig_286', 'eig_287', 'eig_288', 'eig_289', 'eig_290', 'eig_291', 'eig_292', 'eig_293', 'eig_294', 'eig_295', 'eig_296', 'eig_297', 'eig_298', 'eig_299', 'eig_300', 'eig_301', 'eig_302', 'eig_303', 'eig_304', 'eig_305', 'eig_306', 'eig_307', 'eig_308', 'eig_309', 'eig_310', 'eig_311', 'eig_312', 'eig_313', 'eig_314', 'eig_315', 'eig_316', 'eig_317', 'eig_318', 'eig_319', 'eig_320', 'eig_321', 'eig_322', 'eig_323', 'eig_324', 'eig_325', 'eig_326', 'eig_327', 'eig_328', 'eig_329', 'eig_330', 'eig_331', 'eig_332', 'eig_333', 'eig_334', 'eig_335', 'eig_336', 'eig_337', 'eig_338', 'eig_339', 'eig_340', 'eig_341', 'eig_342', 'eig_343', 'eig_344', 'eig_345', 'eig_346', 'eig_347', 'eig_348', 'eig_349', 'eig_350', 'eig_351', 'eig_352', 'eig_353', 'eig_354', 'eig_355', 'eig_356', 'eig_357', 'eig_358', 'eig_359', 'eig_360', 'eig_361', 'eig_362', 'eig_363', 'eig_364', 'eig_365', 'eig_366', 'eig_367', 'eig_368', 'eig_369', 'eig_370', 'eig_371', 'eig_372', 'eig_373', 'eig_374', 'eig_375', 'eig_376', 'eig_377', 'eig_378', 'eig_379', 'eig_380', 'eig_381', 'eig_382', 'eig_383', 'eig_384', 'eig_385', 'eig_386', 'eig_387', 'eig_388', 'eig_389', 'eig_390', 'eig_391', 'eig_392', 'eig_393', 'eig_394', 'eig_395', 'eig_396', 'eig_397', 'eig_398', 'eig_399', 'eig_400', 'eig_401', 'eig_402', 'eig_403', 'eig_404', 'eig_405', 'eig_406', 'eig_407', 'eig_408', 'eig_409', 'eig_410', 'eig_411', 'eig_412', 'eig_413', 'eig_414', 'eig_415', 'eig_416', 'eig_417', 'eig_418', 'eig_419', 'eig_420', 'eig_421', 'eig_422', 'eig_423', 'eig_424', 'eig_425', 'eig_426', 'eig_427', 'eig_428', 'eig_429', 'eig_430', 'eig_431', 'eig_432', 'eig_433', 'eig_434', 'eig_435', 'eig_436', 'eig_437', 'eig_438', 'eig_439', 'eig_440', 'eig_441', 'eig_442', 'eig_443', 'eig_444', 'eig_445', 'eig_446', 'eig_447', 'eig_448', 'eig_449', 'eig_450', 'eig_451', 'eig_452', 'eig_453', 'eig_454', 'eig_455', 'eig_456', 'eig_457', 'eig_458', 'eig_459', 'eig_460', 'eig_461', 'eig_462', 'eig_463', 'eig_464', 'eig_465', 'eig_466', 'eig_467', 'eig_468', 'eig_469', 'eig_470', 'eig_471', 'eig_472', 'eig_473', 'eig_474', 'eig_475', 'eig_476', 'eig_477', 'eig_478', 'eig_479', 'eig_480', 'eig_481', 'eig_482', 'eig_483', 'eig_484', 'eig_485', 'eig_486', 'eig_487', 'eig_488', 'eig_489', 'eig_490', 'eig_491', 'eig_492', 'eig_493', 'eig_494', 'eig_495', 'eig_496', 'eig_497', 'eig_498', 'eig_499']\n",
      "['# Shape0.0', '# Shape1.0', '# Shape2.0', 'Density', 'Lx', 'Ly', 'Lz', '(omega^2)_0', '(omega^2)_1', '(omega^2)_2', '(omega^2)_3', '(omega^2)_4', '(omega^2)_5', '(omega^2)_6', '(omega^2)_7', '(omega^2)_8', '(omega^2)_9', '(omega^2)_10', '(omega^2)_11', '(omega^2)_12', '(omega^2)_13', '(omega^2)_14', '(omega^2)_15', '(omega^2)_16', '(omega^2)_17', '(omega^2)_18', '(omega^2)_19', '(omega^2)_20', '(omega^2)_21', '(omega^2)_22', '(omega^2)_23', '(omega^2)_24', '(omega^2)_25', '(omega^2)_26', '(omega^2)_27', '(omega^2)_28', '(omega^2)_29', '(omega^2)_30', '(omega^2)_31', '(omega^2)_32', '(omega^2)_33', '(omega^2)_34', '(omega^2)_35', '(omega^2)_36', '(omega^2)_37', '(omega^2)_38', '(omega^2)_39', '(omega^2)_40', '(omega^2)_41', '(omega^2)_42', '(omega^2)_43', '(omega^2)_44', '(omega^2)_45', '(omega^2)_46', '(omega^2)_47', '(omega^2)_48', '(omega^2)_49', '(omega^2)_50', '(omega^2)_51', '(omega^2)_52', '(omega^2)_53', '(omega^2)_54', '(omega^2)_55', '(omega^2)_56', '(omega^2)_57', '(omega^2)_58', '(omega^2)_59', '(omega^2)_60', '(omega^2)_61', '(omega^2)_62', '(omega^2)_63', '(omega^2)_64', '(omega^2)_65', '(omega^2)_66', '(omega^2)_67', '(omega^2)_68', '(omega^2)_69', '(omega^2)_70', '(omega^2)_71', '(omega^2)_72', '(omega^2)_73', '(omega^2)_74', '(omega^2)_75', '(omega^2)_76', '(omega^2)_77', '(omega^2)_78', '(omega^2)_79', '(omega^2)_80', '(omega^2)_81', '(omega^2)_82', '(omega^2)_83', '(omega^2)_84', '(omega^2)_85', '(omega^2)_86', '(omega^2)_87', '(omega^2)_88', '(omega^2)_89', '(omega^2)_90', '(omega^2)_91', '(omega^2)_92', '(omega^2)_93', '(omega^2)_94', '(omega^2)_95', '(omega^2)_96', '(omega^2)_97', '(omega^2)_98', '(omega^2)_99', '(omega^2)_100', '(omega^2)_101', '(omega^2)_102', '(omega^2)_103', '(omega^2)_104', '(omega^2)_105', '(omega^2)_106', '(omega^2)_107', '(omega^2)_108', '(omega^2)_109', '(omega^2)_110', '(omega^2)_111', '(omega^2)_112', '(omega^2)_113', '(omega^2)_114', '(omega^2)_115', '(omega^2)_116', '(omega^2)_117', '(omega^2)_118', '(omega^2)_119', '(omega^2)_120', '(omega^2)_121', '(omega^2)_122', '(omega^2)_123', '(omega^2)_124', '(omega^2)_125', '(omega^2)_126', '(omega^2)_127', '(omega^2)_128', '(omega^2)_129', '(omega^2)_130', '(omega^2)_131', '(omega^2)_132', '(omega^2)_133', '(omega^2)_134', '(omega^2)_135', '(omega^2)_136', '(omega^2)_137', '(omega^2)_138', '(omega^2)_139', '(omega^2)_140', '(omega^2)_141', '(omega^2)_142', '(omega^2)_143', '(omega^2)_144', '(omega^2)_145', '(omega^2)_146', '(omega^2)_147', '(omega^2)_148', '(omega^2)_149', '(omega^2)_150', '(omega^2)_151', '(omega^2)_152', '(omega^2)_153', '(omega^2)_154', '(omega^2)_155', '(omega^2)_156', '(omega^2)_157', '(omega^2)_158', '(omega^2)_159', '(omega^2)_160', '(omega^2)_161', '(omega^2)_162', '(omega^2)_163', '(omega^2)_164', '(omega^2)_165', '(omega^2)_166', '(omega^2)_167', '(omega^2)_168', '(omega^2)_169', '(omega^2)_170', '(omega^2)_171', '(omega^2)_172', '(omega^2)_173', '(omega^2)_174', '(omega^2)_175', '(omega^2)_176', '(omega^2)_177', '(omega^2)_178', '(omega^2)_179', '(omega^2)_180', '(omega^2)_181', '(omega^2)_182', '(omega^2)_183', '(omega^2)_184', '(omega^2)_185', '(omega^2)_186', '(omega^2)_187', '(omega^2)_188', '(omega^2)_189', '(omega^2)_190', '(omega^2)_191', '(omega^2)_192', '(omega^2)_193', '(omega^2)_194', '(omega^2)_195', '(omega^2)_196', '(omega^2)_197', '(omega^2)_198', '(omega^2)_199', '(omega^2)_200', '(omega^2)_201', '(omega^2)_202', '(omega^2)_203', '(omega^2)_204', '(omega^2)_205', '(omega^2)_206', '(omega^2)_207', '(omega^2)_208', '(omega^2)_209', '(omega^2)_210', '(omega^2)_211', '(omega^2)_212', '(omega^2)_213', '(omega^2)_214', '(omega^2)_215', '(omega^2)_216', '(omega^2)_217', '(omega^2)_218', '(omega^2)_219', '(omega^2)_220', '(omega^2)_221', '(omega^2)_222', '(omega^2)_223', '(omega^2)_224', '(omega^2)_225', '(omega^2)_226', '(omega^2)_227', '(omega^2)_228', '(omega^2)_229', '(omega^2)_230', '(omega^2)_231', '(omega^2)_232', '(omega^2)_233', '(omega^2)_234', '(omega^2)_235', '(omega^2)_236', '(omega^2)_237', '(omega^2)_238', '(omega^2)_239', '(omega^2)_240', '(omega^2)_241', '(omega^2)_242', '(omega^2)_243', '(omega^2)_244', '(omega^2)_245', '(omega^2)_246', '(omega^2)_247', '(omega^2)_248', '(omega^2)_249', '(omega^2)_250', '(omega^2)_251', '(omega^2)_252', '(omega^2)_253', '(omega^2)_254', '(omega^2)_255', '(omega^2)_256', '(omega^2)_257', '(omega^2)_258', '(omega^2)_259', '(omega^2)_260', '(omega^2)_261', '(omega^2)_262', '(omega^2)_263', '(omega^2)_264', '(omega^2)_265', '(omega^2)_266', '(omega^2)_267', '(omega^2)_268', '(omega^2)_269', '(omega^2)_270', '(omega^2)_271', '(omega^2)_272', '(omega^2)_273', '(omega^2)_274', '(omega^2)_275', '(omega^2)_276', '(omega^2)_277', '(omega^2)_278', '(omega^2)_279', '(omega^2)_280', '(omega^2)_281', '(omega^2)_282', '(omega^2)_283', '(omega^2)_284', '(omega^2)_285', '(omega^2)_286', '(omega^2)_287', '(omega^2)_288', '(omega^2)_289', '(omega^2)_290', '(omega^2)_291', '(omega^2)_292', '(omega^2)_293', '(omega^2)_294', '(omega^2)_295', '(omega^2)_296', '(omega^2)_297', '(omega^2)_298', '(omega^2)_299', '(omega^2)_300', '(omega^2)_301', '(omega^2)_302', '(omega^2)_303', '(omega^2)_304', '(omega^2)_305', '(omega^2)_306', '(omega^2)_307', '(omega^2)_308', '(omega^2)_309', '(omega^2)_310', '(omega^2)_311', '(omega^2)_312', '(omega^2)_313', '(omega^2)_314', '(omega^2)_315', '(omega^2)_316', '(omega^2)_317', '(omega^2)_318', '(omega^2)_319', '(omega^2)_320', '(omega^2)_321', '(omega^2)_322', '(omega^2)_323', '(omega^2)_324', '(omega^2)_325', '(omega^2)_326', '(omega^2)_327', '(omega^2)_328', '(omega^2)_329', '(omega^2)_330', '(omega^2)_331', '(omega^2)_332', '(omega^2)_333', '(omega^2)_334', '(omega^2)_335', '(omega^2)_336', '(omega^2)_337', '(omega^2)_338', '(omega^2)_339', '(omega^2)_340', '(omega^2)_341', '(omega^2)_342', '(omega^2)_343', '(omega^2)_344', '(omega^2)_345', '(omega^2)_346', '(omega^2)_347', '(omega^2)_348', '(omega^2)_349', '(omega^2)_350', '(omega^2)_351', '(omega^2)_352', '(omega^2)_353', '(omega^2)_354', '(omega^2)_355', '(omega^2)_356', '(omega^2)_357', '(omega^2)_358', '(omega^2)_359', '(omega^2)_360', '(omega^2)_361', '(omega^2)_362', '(omega^2)_363', '(omega^2)_364', '(omega^2)_365', '(omega^2)_366', '(omega^2)_367', '(omega^2)_368', '(omega^2)_369', '(omega^2)_370', '(omega^2)_371', '(omega^2)_372', '(omega^2)_373', '(omega^2)_374', '(omega^2)_375', '(omega^2)_376', '(omega^2)_377', '(omega^2)_378', '(omega^2)_379', '(omega^2)_380', '(omega^2)_381', '(omega^2)_382', '(omega^2)_383', '(omega^2)_384', '(omega^2)_385', '(omega^2)_386', '(omega^2)_387', '(omega^2)_388', '(omega^2)_389', '(omega^2)_390', '(omega^2)_391', '(omega^2)_392', '(omega^2)_393', '(omega^2)_394', '(omega^2)_395', '(omega^2)_396', '(omega^2)_397', '(omega^2)_398', '(omega^2)_399', '(omega^2)_400', '(omega^2)_401', '(omega^2)_402', '(omega^2)_403', '(omega^2)_404', '(omega^2)_405', '(omega^2)_406', '(omega^2)_407', '(omega^2)_408', '(omega^2)_409', '(omega^2)_410', '(omega^2)_411', '(omega^2)_412', '(omega^2)_413', '(omega^2)_414', '(omega^2)_415', '(omega^2)_416', '(omega^2)_417', '(omega^2)_418', '(omega^2)_419', '(omega^2)_420', '(omega^2)_421', '(omega^2)_422', '(omega^2)_423', '(omega^2)_424', '(omega^2)_425', '(omega^2)_426', '(omega^2)_427', '(omega^2)_428', '(omega^2)_429', '(omega^2)_430', '(omega^2)_431', '(omega^2)_432', '(omega^2)_433', '(omega^2)_434', '(omega^2)_435', '(omega^2)_436', '(omega^2)_437', '(omega^2)_438', '(omega^2)_439', '(omega^2)_440', '(omega^2)_441', '(omega^2)_442', '(omega^2)_443', '(omega^2)_444', '(omega^2)_445', '(omega^2)_446', '(omega^2)_447', '(omega^2)_448', '(omega^2)_449', '(omega^2)_450', '(omega^2)_451', '(omega^2)_452', '(omega^2)_453', '(omega^2)_454', '(omega^2)_455', '(omega^2)_456', '(omega^2)_457', '(omega^2)_458', '(omega^2)_459', '(omega^2)_460', '(omega^2)_461', '(omega^2)_462', '(omega^2)_463', '(omega^2)_464', '(omega^2)_465', '(omega^2)_466', '(omega^2)_467', '(omega^2)_468', '(omega^2)_469', '(omega^2)_470', '(omega^2)_471', '(omega^2)_472', '(omega^2)_473', '(omega^2)_474', '(omega^2)_475', '(omega^2)_476', '(omega^2)_477', '(omega^2)_478', '(omega^2)_479', '(omega^2)_480', '(omega^2)_481', '(omega^2)_482', '(omega^2)_483', '(omega^2)_484', '(omega^2)_485', '(omega^2)_486', '(omega^2)_487', '(omega^2)_488', '(omega^2)_489', '(omega^2)_490', '(omega^2)_491', '(omega^2)_492', '(omega^2)_493', '(omega^2)_494', '(omega^2)_495', '(omega^2)_496', '(omega^2)_497', '(omega^2)_498', '(omega^2)_499']\n"
     ]
    }
   ],
   "source": [
    "\"\"\"\n",
    "TODO: \n",
    "1) Hacer una lista con los features que serán nuestros X. Escoger cualquiera de los CXX y ese será nuestro 'y' (luego haremos un loop para cubrir todos los CXX)\n",
    "2) Hacer una regresión lineal con cada uno de los CXX y reportar un MSE por cada uno de los CXX\n",
    "\"\"\"\n",
    "features_discretos = list(filter(lambda x: \"Shape\" in x or \"CrySt\" in x, Datos_train_a.keys()))\n",
    "features_X_a = list(filter(lambda x: \"eig\" in x, Datos_train_a.keys()))\n",
    "features_X_l = list(filter(lambda x: \"omega\" in x, Datos_train_l.keys()))\n",
    "features_geo_l = [\"Density\", \"Lx\", \"Ly\", \"Lz\"]\n",
    "features_geo_a = [\"bx\", \"by\", \"bz\"]\n",
    "features_a = features_discretos + features_geo_a + features_X_a\n",
    "features_l = features_discretos + features_geo_l + features_X_l\n",
    "print(features_a)\n",
    "print(features_l)"
   ]
  },
  {
   "cell_type": "code",
   "execution_count": 10,
   "metadata": {},
   "outputs": [],
   "source": [
    "X_train_a = Datos_train_a[features_a]\n",
    "X_train_l = Datos_test_l[features_l]\n",
    "X_test_a = Datos_test_a[features_a]\n",
    "X_test_l = Datos_test_l[features_l]"
   ]
  },
  {
   "cell_type": "code",
   "execution_count": 11,
   "metadata": {},
   "outputs": [],
   "source": [
    "targets = [\"C00\", \"C11\", \"C22\", \"C33\", \"C44\", \"C55\", \"C01\", \"C02\", \"C12\"]\n",
    "MSE_a = dict()\n",
    "MSE_l = dict()\n",
    "W_a = dict()\n",
    "W_l = dict()\n",
    "for target in targets:\n",
    "    y_train_a = Datos_train_a[target]\n",
    "    y_train_l = Datos_test_l[target]\n",
    "    y_test_a = Datos_test_a[target]\n",
    "    y_test_l = Datos_test_l[target]\n",
    "    modelo_a = LinearRegression()\n",
    "    modelo_l = LinearRegression()\n",
    "    modelo_a.fit(X_train_a, y_train_a)\n",
    "    modelo_l.fit(X_train_l, y_train_l)\n",
    "    w_a = [modelo_a.intercept_, *modelo_a.coef_]\n",
    "    w_l = [modelo_l.intercept_, *modelo_l.coef_]\n",
    "    y_gorro_test_a = X_test_a.dot(w_a[1:]) + w_a[0]\n",
    "    y_gorro_test_l = X_test_l.dot(w_l[1:]) + w_l[0]\n",
    "    W_a[target] = dict(map(lambda x: (features_a[x], w_a[1:][x]), range(len(features_a))))\n",
    "    W_l[target] = dict(map(lambda x: (features_l[x], w_l[1:][x]), range(len(features_l))))\n",
    "    W_a[target][\"intercepto\"] = w_a[0]\n",
    "    W_l[target][\"intercepto\"] = w_l[0]\n",
    "    W_a[target][\"MSE\"] = (1/(len(y_test_a)))*(y_test_a - y_gorro_test_a).dot(y_test_a - y_gorro_test_a)\n",
    "    W_l[target][\"MSE\"] = (1/(len(y_test_l)))*(y_test_l - y_gorro_test_l).dot(y_test_l - y_gorro_test_l)\n",
    "    media_a = Estadisticos_train_a[target][\"media\"]\n",
    "    media_l = Estadisticos_train_l[target][\"media\"]\n",
    "    desv_a = Estadisticos_train_a[target][\"desviacion\"]\n",
    "    desv_l = Estadisticos_train_l[target][\"desviacion\"]\n",
    "    nu_test_a = (media_a + desv_a*y_gorro_test_a)/(media_a + desv_a*y_test_a)\n",
    "    nu_test_l = (media_l + desv_l*y_gorro_test_l)/(media_l + desv_l*y_test_l)\n",
    "    W_a[target][\"MSE_p\"] = (1/(len(y_test_a)))*(1 - nu_test_a).dot(1 - nu_test_a)\n",
    "    W_l[target][\"MSE_p\"] = (1/(len(y_test_l)))*(1 - nu_test_l).dot(1 - nu_test_l)\n",
    "\n",
    "#fin for \n",
    "W_l = pd.DataFrame(W_l)\n",
    "W_a = pd.DataFrame(W_a)"
   ]
  },
  {
   "cell_type": "code",
   "execution_count": 12,
   "metadata": {},
   "outputs": [
    {
     "name": "stdout",
     "output_type": "stream",
     "text": [
      "Valores de MSE para problema adimensionalizado:  {}\n",
      "Valores de MSE para el problema a la antigua:  {}\n"
     ]
    }
   ],
   "source": [
    "print(\"Valores de MSE para problema adimensionalizado: \", MSE_a)\n",
    "print(\"Valores de MSE para el problema a la antigua: \", MSE_l)"
   ]
  },
  {
   "cell_type": "code",
   "execution_count": 13,
   "metadata": {},
   "outputs": [
    {
     "name": "stdout",
     "output_type": "stream",
     "text": [
      "b y pesos para el problema adimensionalizado: \n",
      "                 C00       C11       C22       C33       C44       C55  \\\n",
      "# Shape0.0  0.004351 -0.017027  0.001531  0.019634  0.024409  0.029955   \n",
      "# Shape1.0 -0.007144  0.002373 -0.010304 -0.001955  0.000122 -0.002699   \n",
      "# Shape2.0  0.002793  0.014655  0.008774 -0.017679 -0.024532 -0.027256   \n",
      "bx         -0.057901 -0.070375 -0.058218 -0.123988 -0.123957 -0.109237   \n",
      "by         -0.075029 -0.086125 -0.067703 -0.119627 -0.121895 -0.103479   \n",
      "...              ...       ...       ...       ...       ...       ...   \n",
      "eig_497    -1.363849 -1.539931 -0.949226  0.177124  0.575681  0.101291   \n",
      "eig_498    -0.038198 -0.257630  0.857807 -0.183687  0.159729 -0.322663   \n",
      "eig_499     1.333567  1.696437  0.504418  1.585988  1.255353  1.884730   \n",
      "intercepto -0.000011  0.000192  0.000041 -0.000225 -0.000295 -0.000346   \n",
      "MSE         0.539550  0.547842  0.612208  0.126733  0.128230  0.169661   \n",
      "\n",
      "                 C01       C02       C12  \n",
      "# Shape0.0  0.012845  0.011764  0.012839  \n",
      "# Shape1.0 -0.005444 -0.001941 -0.003812  \n",
      "# Shape2.0 -0.007401 -0.009823 -0.009027  \n",
      "bx         -0.055842 -0.060617 -0.057089  \n",
      "by         -0.067370 -0.067529 -0.067290  \n",
      "...              ...       ...       ...  \n",
      "eig_497    -0.714661 -1.793595 -1.394383  \n",
      "eig_498     0.341343 -0.533506 -0.146215  \n",
      "eig_499     1.516964  2.227337  1.761901  \n",
      "intercepto -0.000123 -0.000131 -0.000133  \n",
      "MSE         0.871327  0.870568  0.865704  \n",
      "\n",
      "[508 rows x 9 columns]\n"
     ]
    }
   ],
   "source": [
    "print(\"b y pesos para el problema adimensionalizado: \")\n",
    "print(W_a)\n",
    "nombre_archivo_a = \"Regresion_lineal_a_\" + str(N_datos) + \".csv\"\n",
    "W_a.to_csv(nombre_archivo_a)"
   ]
  },
  {
   "cell_type": "code",
   "execution_count": 14,
   "metadata": {},
   "outputs": [
    {
     "name": "stdout",
     "output_type": "stream",
     "text": [
      "b y pesos para el problema a la antigua\n",
      "                    C00       C11        C22        C33        C44        C55  \\\n",
      "# Shape0.0     0.048244  0.044686   0.049953   0.093151   0.094279   0.096655   \n",
      "# Shape1.0     0.003940  0.001346  -0.006062   0.000991   0.004768   0.001832   \n",
      "# Shape2.0    -0.052185 -0.046032  -0.043890  -0.094142  -0.099047  -0.098486   \n",
      "Density        0.091675  0.087425   0.088884   0.112702   0.113916   0.121325   \n",
      "Lx             0.129734  0.135278   0.127257   0.145062   0.141014   0.149123   \n",
      "...                 ...       ...        ...        ...        ...        ...   \n",
      "(omega^2)_497 -2.358049  2.082005   1.146303  -0.206003   1.676027  -4.163889   \n",
      "(omega^2)_498  7.508753  8.528503  13.959992  15.934460  17.141652  16.221546   \n",
      "(omega^2)_499  2.079134 -1.683412  -5.872463   0.531563  -0.420152   0.406243   \n",
      "intercepto     0.018395  0.030753   0.036173   0.042045   0.044335   0.043120   \n",
      "MSE            0.903173  0.905061   0.902944   0.795581   0.789154   0.810943   \n",
      "\n",
      "                    C01       C02       C12  \n",
      "# Shape0.0     0.027309  0.030760  0.031235  \n",
      "# Shape1.0    -0.003402  0.000344 -0.003257  \n",
      "# Shape2.0    -0.023907 -0.031105 -0.027978  \n",
      "Density        0.039528  0.035672  0.033999  \n",
      "Lx             0.073328  0.072950  0.071055  \n",
      "...                 ...       ...       ...  \n",
      "(omega^2)_497  1.094104  0.553157  4.381324  \n",
      "(omega^2)_498  4.355883  3.102076  2.514560  \n",
      "(omega^2)_499 -3.749081 -0.865763 -1.476066  \n",
      "intercepto     0.005478  0.007727  0.008052  \n",
      "MSE            0.901785  0.899025  0.900090  \n",
      "\n",
      "[509 rows x 9 columns]\n"
     ]
    }
   ],
   "source": [
    "print(\"b y pesos para el problema a la antigua\")\n",
    "print(W_l)\n",
    "nombre_archivo_l = \"Regresion_lineal_l_\" + str(N_datos) + \".csv\"\n",
    "W_l.to_csv(nombre_archivo_l)"
   ]
  },
  {
   "cell_type": "code",
   "execution_count": null,
   "metadata": {},
   "outputs": [],
   "source": []
  }
 ],
 "metadata": {
  "kernelspec": {
   "display_name": "Python 3",
   "language": "python",
   "name": "python3"
  },
  "language_info": {
   "codemirror_mode": {
    "name": "ipython",
    "version": 3
   },
   "file_extension": ".py",
   "mimetype": "text/x-python",
   "name": "python",
   "nbconvert_exporter": "python",
   "pygments_lexer": "ipython3",
   "version": "3.12.4"
  }
 },
 "nbformat": 4,
 "nbformat_minor": 2
}
