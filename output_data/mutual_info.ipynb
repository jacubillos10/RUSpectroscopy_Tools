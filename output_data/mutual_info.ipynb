{
 "cells": [
  {
   "cell_type": "code",
   "execution_count": 1,
   "metadata": {},
   "outputs": [],
   "source": [
    "import numpy as np\n",
    "import matplotlib.pyplot as plt\n",
    "import sklearn\n",
    "from sklearn.feature_selection import mutual_info_regression\n",
    "import pandas as pd"
   ]
  },
  {
   "cell_type": "code",
   "execution_count": 2,
   "metadata": {},
   "outputs": [],
   "source": [
    "datos_antigua = pd.read_csv(\"datos_antigua.csv\", delimiter=\",\")\n",
    "datos_nueva = pd.read_csv(\"datos_nueva.csv\", delimiter=\",\")"
   ]
  },
  {
   "cell_type": "code",
   "execution_count": 3,
   "metadata": {},
   "outputs": [],
   "source": [
    "def normalizar(d_frame):\n",
    "    for column in d_frame.keys()[2:]:\n",
    "        if not sum(d_frame[column]) == 0:\n",
    "            d_frame[column] = (d_frame[column] - np.average(d_frame[column]))/np.std(d_frame[column])\n",
    "    #fin for\n",
    "#fin función"
   ]
  },
  {
   "cell_type": "code",
   "execution_count": 4,
   "metadata": {},
   "outputs": [
    {
     "data": {
      "text/html": [
       "<div>\n",
       "<style scoped>\n",
       "    .dataframe tbody tr th:only-of-type {\n",
       "        vertical-align: middle;\n",
       "    }\n",
       "\n",
       "    .dataframe tbody tr th {\n",
       "        vertical-align: top;\n",
       "    }\n",
       "\n",
       "    .dataframe thead th {\n",
       "        text-align: right;\n",
       "    }\n",
       "</style>\n",
       "<table border=\"1\" class=\"dataframe\">\n",
       "  <thead>\n",
       "    <tr style=\"text-align: right;\">\n",
       "      <th></th>\n",
       "      <th># Shape</th>\n",
       "      <th>Cry_st</th>\n",
       "      <th>bx</th>\n",
       "      <th>by</th>\n",
       "      <th>bz</th>\n",
       "      <th>C00</th>\n",
       "      <th>C01</th>\n",
       "      <th>C02</th>\n",
       "      <th>C03</th>\n",
       "      <th>C04</th>\n",
       "      <th>...</th>\n",
       "      <th>eig_14</th>\n",
       "      <th>eig_15</th>\n",
       "      <th>eig_16</th>\n",
       "      <th>eig_17</th>\n",
       "      <th>eig_18</th>\n",
       "      <th>eig_19</th>\n",
       "      <th>eig_20</th>\n",
       "      <th>eig_21</th>\n",
       "      <th>eig_22</th>\n",
       "      <th>eig_23</th>\n",
       "    </tr>\n",
       "  </thead>\n",
       "  <tbody>\n",
       "    <tr>\n",
       "      <th>0</th>\n",
       "      <td>0.0</td>\n",
       "      <td>0.0</td>\n",
       "      <td>-0.755343</td>\n",
       "      <td>0.291296</td>\n",
       "      <td>-0.480268</td>\n",
       "      <td>1.257049</td>\n",
       "      <td>-0.562555</td>\n",
       "      <td>-0.562060</td>\n",
       "      <td>0.0</td>\n",
       "      <td>0.0</td>\n",
       "      <td>...</td>\n",
       "      <td>0.561929</td>\n",
       "      <td>0.491745</td>\n",
       "      <td>0.828282</td>\n",
       "      <td>0.789524</td>\n",
       "      <td>0.739333</td>\n",
       "      <td>0.930312</td>\n",
       "      <td>0.871956</td>\n",
       "      <td>0.834209</td>\n",
       "      <td>1.096450</td>\n",
       "      <td>1.006269</td>\n",
       "    </tr>\n",
       "    <tr>\n",
       "      <th>1</th>\n",
       "      <td>0.0</td>\n",
       "      <td>1.0</td>\n",
       "      <td>-0.947375</td>\n",
       "      <td>0.087579</td>\n",
       "      <td>0.078063</td>\n",
       "      <td>-1.685256</td>\n",
       "      <td>-0.493197</td>\n",
       "      <td>-0.404944</td>\n",
       "      <td>0.0</td>\n",
       "      <td>0.0</td>\n",
       "      <td>...</td>\n",
       "      <td>-0.511439</td>\n",
       "      <td>-0.520225</td>\n",
       "      <td>-0.553899</td>\n",
       "      <td>-0.512112</td>\n",
       "      <td>-0.427598</td>\n",
       "      <td>-0.449149</td>\n",
       "      <td>-0.487687</td>\n",
       "      <td>-0.476809</td>\n",
       "      <td>-0.381804</td>\n",
       "      <td>-0.389049</td>\n",
       "    </tr>\n",
       "    <tr>\n",
       "      <th>2</th>\n",
       "      <td>2.0</td>\n",
       "      <td>0.0</td>\n",
       "      <td>2.362355</td>\n",
       "      <td>-0.660007</td>\n",
       "      <td>-0.707477</td>\n",
       "      <td>1.693210</td>\n",
       "      <td>-0.378567</td>\n",
       "      <td>-0.544676</td>\n",
       "      <td>0.0</td>\n",
       "      <td>0.0</td>\n",
       "      <td>...</td>\n",
       "      <td>-1.023257</td>\n",
       "      <td>-1.010082</td>\n",
       "      <td>-0.982793</td>\n",
       "      <td>-0.997429</td>\n",
       "      <td>-0.997816</td>\n",
       "      <td>-0.991515</td>\n",
       "      <td>-0.985369</td>\n",
       "      <td>-0.986271</td>\n",
       "      <td>-0.960870</td>\n",
       "      <td>-0.941588</td>\n",
       "    </tr>\n",
       "    <tr>\n",
       "      <th>3</th>\n",
       "      <td>0.0</td>\n",
       "      <td>0.0</td>\n",
       "      <td>-1.060887</td>\n",
       "      <td>-0.021284</td>\n",
       "      <td>0.670529</td>\n",
       "      <td>0.327320</td>\n",
       "      <td>-0.535580</td>\n",
       "      <td>-0.444901</td>\n",
       "      <td>0.0</td>\n",
       "      <td>0.0</td>\n",
       "      <td>...</td>\n",
       "      <td>0.108598</td>\n",
       "      <td>0.129361</td>\n",
       "      <td>0.116017</td>\n",
       "      <td>0.166758</td>\n",
       "      <td>0.150405</td>\n",
       "      <td>0.147950</td>\n",
       "      <td>0.382340</td>\n",
       "      <td>0.408826</td>\n",
       "      <td>0.425595</td>\n",
       "      <td>0.373440</td>\n",
       "    </tr>\n",
       "    <tr>\n",
       "      <th>4</th>\n",
       "      <td>1.0</td>\n",
       "      <td>1.0</td>\n",
       "      <td>0.984403</td>\n",
       "      <td>-1.196377</td>\n",
       "      <td>0.988778</td>\n",
       "      <td>1.588110</td>\n",
       "      <td>-0.431884</td>\n",
       "      <td>-0.413545</td>\n",
       "      <td>0.0</td>\n",
       "      <td>0.0</td>\n",
       "      <td>...</td>\n",
       "      <td>-0.878154</td>\n",
       "      <td>-0.877047</td>\n",
       "      <td>-0.886330</td>\n",
       "      <td>-0.855246</td>\n",
       "      <td>-0.853633</td>\n",
       "      <td>-0.822893</td>\n",
       "      <td>-0.845323</td>\n",
       "      <td>-0.834547</td>\n",
       "      <td>-0.858852</td>\n",
       "      <td>-0.845952</td>\n",
       "    </tr>\n",
       "  </tbody>\n",
       "</table>\n",
       "<p>5 rows × 50 columns</p>\n",
       "</div>"
      ],
      "text/plain": [
       "   # Shape  Cry_st        bx        by        bz       C00       C01  \\\n",
       "0      0.0     0.0 -0.755343  0.291296 -0.480268  1.257049 -0.562555   \n",
       "1      0.0     1.0 -0.947375  0.087579  0.078063 -1.685256 -0.493197   \n",
       "2      2.0     0.0  2.362355 -0.660007 -0.707477  1.693210 -0.378567   \n",
       "3      0.0     0.0 -1.060887 -0.021284  0.670529  0.327320 -0.535580   \n",
       "4      1.0     1.0  0.984403 -1.196377  0.988778  1.588110 -0.431884   \n",
       "\n",
       "        C02  C03  C04  ...    eig_14    eig_15    eig_16    eig_17    eig_18  \\\n",
       "0 -0.562060  0.0  0.0  ...  0.561929  0.491745  0.828282  0.789524  0.739333   \n",
       "1 -0.404944  0.0  0.0  ... -0.511439 -0.520225 -0.553899 -0.512112 -0.427598   \n",
       "2 -0.544676  0.0  0.0  ... -1.023257 -1.010082 -0.982793 -0.997429 -0.997816   \n",
       "3 -0.444901  0.0  0.0  ...  0.108598  0.129361  0.116017  0.166758  0.150405   \n",
       "4 -0.413545  0.0  0.0  ... -0.878154 -0.877047 -0.886330 -0.855246 -0.853633   \n",
       "\n",
       "     eig_19    eig_20    eig_21    eig_22    eig_23  \n",
       "0  0.930312  0.871956  0.834209  1.096450  1.006269  \n",
       "1 -0.449149 -0.487687 -0.476809 -0.381804 -0.389049  \n",
       "2 -0.991515 -0.985369 -0.986271 -0.960870 -0.941588  \n",
       "3  0.147950  0.382340  0.408826  0.425595  0.373440  \n",
       "4 -0.822893 -0.845323 -0.834547 -0.858852 -0.845952  \n",
       "\n",
       "[5 rows x 50 columns]"
      ]
     },
     "execution_count": 4,
     "metadata": {},
     "output_type": "execute_result"
    }
   ],
   "source": [
    "normalizar(datos_antigua)\n",
    "normalizar(datos_nueva)\n",
    "datos_nueva.head()"
   ]
  },
  {
   "cell_type": "code",
   "execution_count": 21,
   "metadata": {},
   "outputs": [],
   "source": [
    "# Para X tomaré N frecuencias (dadas po el usuario). Para \"y\" tomaré un CXX dado por el usuario\n",
    "def info_mutua(N_freq, Cobj, d_frame):\n",
    "    if any(\"(omega^2)\" in x for x in d_frame.keys()):\n",
    "        key_str = \"(omega^2)\"\n",
    "        N_col = 6\n",
    "    elif any(\"eig\" in x for x in d_frame.keys()):\n",
    "        key_str = \"eig\"\n",
    "        N_col = 5\n",
    "    else:\n",
    "        raise KeyError(\"No hay columnas llamadas eig_X o (omega^2)_X\")\n",
    "    #fin if \n",
    "    lista_ini = list(d_frame.keys()[:N_col])\n",
    "    lista_eig = list(filter(lambda x: key_str in x, d_frame.keys()))[:N_freq]\n",
    "    lista_X = lista_ini + lista_eig\n",
    "    X = d_frame[lista_X]\n",
    "    y = d_frame[Cobj]\n",
    "    resp = mutual_info_regression(X, y, discrete_features=(0,1))\n",
    "    return (resp, lista_X)\n",
    "#fin función"
   ]
  },
  {
   "cell_type": "code",
   "execution_count": 32,
   "metadata": {},
   "outputs": [],
   "source": [
    "N_freq = 24\n",
    "target = \"C00\"\n",
    "MI_antigua_info = info_mutua(N_freq, target, datos_antigua)\n",
    "MI_nueva_info = info_mutua(N_freq, target, datos_nueva)\n",
    "MI_antigua = MI_antigua_info[0]\n",
    "MI_nueva = MI_nueva_info[0]\n",
    "listaX_antigua = MI_antigua_info[1]\n",
    "listaX_nueva = MI_nueva_info[1]"
   ]
  },
  {
   "cell_type": "code",
   "execution_count": 33,
   "metadata": {},
   "outputs": [
    {
     "name": "stdout",
     "output_type": "stream",
     "text": [
      "['# Shape', 'Cry_st', 'Density', 'Lx', 'Ly', 'Lz', '(omega^2)_0', '(omega^2)_1', '(omega^2)_2', '(omega^2)_3', '(omega^2)_4', '(omega^2)_5', '(omega^2)_6', '(omega^2)_7', '(omega^2)_8', '(omega^2)_9', '(omega^2)_10', '(omega^2)_11', '(omega^2)_12', '(omega^2)_13', '(omega^2)_14', '(omega^2)_15', '(omega^2)_16', '(omega^2)_17', '(omega^2)_18', '(omega^2)_19', '(omega^2)_20', '(omega^2)_21', '(omega^2)_22', '(omega^2)_23']\n",
      "[0.00256345 0.         0.         0.         0.00498557 0.\n",
      " 0.00333694 0.         0.01750499 0.00344444 0.         0.\n",
      " 0.         0.         0.00505193 0.         0.         0.\n",
      " 0.00661786 0.00312724 0.01881519 0.00642648 0.00620476 0.02047409\n",
      " 0.01280337 0.00919967 0.00790481 0.01328361 0.0167913  0.00630934]\n"
     ]
    },
    {
     "data": {
      "text/plain": [
       "<BarContainer object of 30 artists>"
      ]
     },
     "execution_count": 33,
     "metadata": {},
     "output_type": "execute_result"
    },
    {
     "data": {
      "image/png": "[encoded data removed]",
      "text/plain": [
       "<Figure size 640x480 with 1 Axes>"
      ]
     },
     "metadata": {},
     "output_type": "display_data"
    }
   ],
   "source": [
    "print(listaX_antigua)\n",
    "print(MI_antigua)\n",
    "plt.barh(listaX_antigua, MI_antigua)"
   ]
  },
  {
   "cell_type": "code",
   "execution_count": 34,
   "metadata": {},
   "outputs": [
    {
     "name": "stdout",
     "output_type": "stream",
     "text": [
      "['# Shape', 'Cry_st', 'bx', 'by', 'bz', 'eig_0', 'eig_1', 'eig_2', 'eig_3', 'eig_4', 'eig_5', 'eig_6', 'eig_7', 'eig_8', 'eig_9', 'eig_10', 'eig_11', 'eig_12', 'eig_13', 'eig_14', 'eig_15', 'eig_16', 'eig_17', 'eig_18', 'eig_19', 'eig_20', 'eig_21', 'eig_22', 'eig_23']\n",
      "[0.00247999 0.         0.00012972 0.0052646  0.         0.\n",
      " 0.00893233 0.01220692 0.00545292 0.01035364 0.00583998 0.02706484\n",
      " 0.01390295 0.01072243 0.01437508 0.015228   0.0153506  0.02420163\n",
      " 0.01958933 0.01815085 0.02432671 0.03158155 0.02066632 0.01486678\n",
      " 0.00216595 0.0319742  0.03749634 0.02288458 0.02548497]\n"
     ]
    },
    {
     "data": {
      "text/plain": [
       "<BarContainer object of 29 artists>"
      ]
     },
     "execution_count": 34,
     "metadata": {},
     "output_type": "execute_result"
    },
    {
     "data": {
      "image/png": "[encoded data removed]",
      "text/plain": [
       "<Figure size 640x480 with 1 Axes>"
      ]
     },
     "metadata": {},
     "output_type": "display_data"
    }
   ],
   "source": [
    "print(listaX_nueva)\n",
    "print(MI_nueva)\n",
    "plt.barh(listaX_nueva, MI_nueva)"
   ]
  },
  {
   "cell_type": "code",
   "execution_count": null,
   "metadata": {},
   "outputs": [],
   "source": []
  }
 ],
 "metadata": {
  "kernelspec": {
   "display_name": "Python 3",
   "language": "python",
   "name": "python3"
  },
  "language_info": {
   "codemirror_mode": {
    "name": "ipython",
    "version": 3
   },
   "file_extension": ".py",
   "mimetype": "text/x-python",
   "name": "python",
   "nbconvert_exporter": "python",
   "pygments_lexer": "ipython3",
   "version": "3.12.4"
  }
 },
 "nbformat": 4,
 "nbformat_minor": 2
}
