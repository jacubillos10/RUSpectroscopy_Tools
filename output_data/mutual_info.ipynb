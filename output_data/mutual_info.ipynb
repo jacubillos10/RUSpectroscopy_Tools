{
 "cells": [
  {
   "cell_type": "code",
   "execution_count": 2,
   "metadata": {},
   "outputs": [],
   "source": [
    "import numpy as np\n",
    "import matplotlib.pyplot as plt\n",
    "import sklearn\n",
    "from sklearn.feature_selection import mutual_info_regression\n",
    "import pandas as pd"
   ]
  },
  {
   "cell_type": "code",
   "execution_count": 3,
   "metadata": {},
   "outputs": [],
   "source": [
    "datos_antigua = pd.read_csv(\"datos_CS0_S0_.csv\", delimiter=\",\")\n",
    "datos_nueva = pd.read_csv(\"datos_A_CS0_S0_.csv\", delimiter=\",\")"
   ]
  },
  {
   "cell_type": "code",
   "execution_count": 15,
   "metadata": {},
   "outputs": [],
   "source": [
    "# Para X tomaré N frecuencias (dadas po el usuario). Para \"y\" tomaré un CXX dado por el usuario\n",
    "def info_mutua(N_freq, Cobj, d_frame):\n",
    "    if any(\"(omega^2)\" in x for x in d_frame.keys()):\n",
    "        key_str = \"(omega^2)\"\n",
    "        N_col = 6\n",
    "    elif any(\"eig\" in x for x in d_frame.keys()):\n",
    "        key_str = \"eig\"\n",
    "        N_col = 5\n",
    "    else:\n",
    "        raise KeyError(\"No hay columnas llamadas eig_X o (omega^2)_X\")\n",
    "    #fin if \n",
    "    lista_ini = list(d_frame.keys()[:N_col])\n",
    "    lista_eig = list(filter(lambda x: key_str in x, d_frame.keys()))[:N_freq]\n",
    "    print(lista_ini, lista_eig)\n"
   ]
  },
  {
   "cell_type": "code",
   "execution_count": 19,
   "metadata": {},
   "outputs": [
    {
     "name": "stdout",
     "output_type": "stream",
     "text": [
      "['# Shape', 'Cry_st', 'Density', 'Lx', 'Ly', 'Lz'] ['(omega^2)_0', '(omega^2)_1', '(omega^2)_2', '(omega^2)_3']\n"
     ]
    }
   ],
   "source": []
  },
  {
   "cell_type": "code",
   "execution_count": null,
   "metadata": {},
   "outputs": [],
   "source": []
  }
 ],
 "metadata": {
  "kernelspec": {
   "display_name": "Python 3",
   "language": "python",
   "name": "python3"
  },
  "language_info": {
   "codemirror_mode": {
    "name": "ipython",
    "version": 3
   },
   "file_extension": ".py",
   "mimetype": "text/x-python",
   "name": "python",
   "nbconvert_exporter": "python",
   "pygments_lexer": "ipython3",
   "version": "3.12.3"
  }
 },
 "nbformat": 4,
 "nbformat_minor": 2
}
