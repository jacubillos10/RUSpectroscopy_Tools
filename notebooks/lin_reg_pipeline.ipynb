{
 "cells": [
  {
   "cell_type": "code",
   "execution_count": 4,
   "metadata": {},
   "outputs": [],
   "source": [
    "import re\n",
    "import numpy as np\n",
    "import pandas as pd\n",
    "from sklearn.base import BaseEstimator, TransformerMixin\n",
    "from sklearn.pipeline import Pipeline"
   ]
  },
  {
   "cell_type": "code",
   "execution_count": 6,
   "metadata": {},
   "outputs": [],
   "source": [
    "class TransformadorDeDatos(BaseEstimator, TransformerMixin):\n",
    "    def __init__(self, dict_op):\n",
    "        condicion = callable(dict_op) or all((callable(self.operations[key]) for key in self.operations.keys()))\n",
    "        if condicion:\n",
    "            self.operations = dict_op\n",
    "        else:\n",
    "            raise TypeError(\"Class input must be either a callable of a dict full of callables\")\n",
    "        #fin if \n",
    "    #fin init\n",
    "\n",
    "    def fit(self, X, y=None):\n",
    "        return self\n",
    "    #fin fit\n",
    "\n",
    "    def transform(self, X):\n",
    "        datos = X.copy()\n",
    "        eig_pattern = r\"^(w\\d+|eig\\d+|eig_\\d+|\\(omega\\^2\\)_\\d+)$\"\n",
    "        dim_pattern = r\"^(dx|dy|dz|bx|by|bz|lx|ly|lz)$\"\n",
    "        rho_pattern = r\"^(rho|Rho|RHO)$\"\n",
    "        eig_columns = list(filter(lambda x: re.match(eig_pattern, x), datos.keys()))\n",
    "        dim_columns = list(filter(lambda x: re.match(dim_pattern, x), datos.keys()))\n",
    "        rho_columns = list(filter(lambda x: re.match(rho_pattern, x), datos.keys()))\n",
    "        cols_transformar = eig_columns + dim_columns + rho_columns\n",
    "        if callable(self.operations):\n",
    "            for col in cols_transformar:\n",
    "                if col in datos.keys():\n",
    "                    datos[col] = self.operations(datos[col])\n",
    "                #fin if \n",
    "            #fin for\n",
    "        elif type(self.operations) == dict and all((callable(self.operations[key]) for key in self.operations.keys())): \n",
    "            for col in cols_transformar:\n",
    "                if col in datos.keys() and col in self.operations:\n",
    "                    datos[col] = self.operations[col](datos[col])\n",
    "                #fin if \n",
    "            #fin for\n",
    "        else: \n",
    "            raise TypeError(\"Class input must be either a callable of a dict full of callables\")\n",
    "        #fin if \n",
    "        return datos\n",
    "    #fin transform\n",
    "#fin class"
   ]
  },
  {
   "cell_type": "code",
   "execution_count": null,
   "metadata": {},
   "outputs": [],
   "source": []
  }
 ],
 "metadata": {
  "kernelspec": {
   "display_name": "Python 3",
   "language": "python",
   "name": "python3"
  },
  "language_info": {
   "codemirror_mode": {
    "name": "ipython",
    "version": 3
   },
   "file_extension": ".py",
   "mimetype": "text/x-python",
   "name": "python",
   "nbconvert_exporter": "python",
   "pygments_lexer": "ipython3",
   "version": "3.12.6"
  }
 },
 "nbformat": 4,
 "nbformat_minor": 2
}
